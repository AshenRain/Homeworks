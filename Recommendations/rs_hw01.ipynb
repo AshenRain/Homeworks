{
  "cells": [
    {
      "cell_type": "markdown",
      "metadata": {
        "id": "QepR_UQJGa3U"
      },
      "source": [
        "# Лабораторная работа 1. Классические методы построения рекомендаций.\n",
        "\n",
        "В лабораторной вам нужно будет реализовать несколько метрик, применить  популярные модели и оценить влияние гиперпараметров на качество рекомендаций.\n",
        "Работа Гринева Артема\n",
        "### Формат сдачи задания\n",
        "Лаботаторная сдается в виде ipynb-файла. Каждое выполененное задание должно сопровожаться текстом с выводами. Добавьте визуализации результатов, например, в заданиях на сравнение качества при разных гиперпараметрах. Постарайтесь делать код лаконичным и понятным для проверяющих.\n",
        "\n",
        "Фиксируйте random seed для воспроизводимости результатов.\n",
        "\n",
        "\n",
        "### Оценивание\n",
        "За лабораторную можно получить максимум 5 баллов. Предполагается, что вычислительных ресурсов google colab хватит для успешного выполнения работы.\n",
        "\n",
        "### Общая информация о задаче\n",
        "В лабораторной работе будет использоваться классический датасет [MovieLens 1M](https://paperswithcode.com/sota/collaborative-filtering-on-movielens-1m), содержащий оценки фильмов пользователями и признаки пользователей и фильмов.\n",
        "\n",
        "Для всех заданий, связанных с генерацией рекомендаций, $K=20$, т.е. вам необходимо подготовить по 20 рекомендаций для каждого пользователя.\n",
        "\n",
        "Так как датасет из области кино, и нам дана информация об оценках, необходимо выполнять фильтрацию просмотренных айтемов при генерации рекомендаций.\n",
        "\n",
        "Мы будем разделять датасет на 2 части, train и validation, так как целью заданий является наглядная оценка влияния ключевых гиперпараметров (число соседей/латентных факторов) на качество. Если вы будете подбирать другие гиперпараметры моделей (коэффициенты регуляризации в als, коэффициенты K1 и B в bm25), отделите самостоятельно часть train для подбора параметров, а итоговое качество оценивайте после подбора параметров на validation. Подбор гиперпараметров можно реализовать, например, с помощью optuna.\n",
        "\n",
        "Используйте последнюю версию библиотеки implicit.\n",
        "\n",
        "Вопросы по заданию можно писать в чат курса или на почту, которая будет дана в чате курса. Ссылка на форму для отправки решений будет дана в чате."
      ]
    },
    {
      "cell_type": "code",
      "execution_count": 1,
      "metadata": {
        "id": "XF3hsKHDGa3X"
      },
      "outputs": [],
      "source": [
        "import pandas as pd\n",
        "import numpy as np"
      ]
    },
    {
      "cell_type": "code",
      "execution_count": 2,
      "metadata": {
        "id": "ch8TWW9Agrwj"
      },
      "outputs": [],
      "source": [
        "K = 20\n",
        "SEED = 123\n",
        "np.random.seed(SEED)"
      ]
    },
    {
      "cell_type": "markdown",
      "metadata": {
        "id": "5CDKXxINGa3X"
      },
      "source": [
        "## Знакомство с данными\n",
        "\n",
        "    \n"
      ]
    },
    {
      "cell_type": "markdown",
      "metadata": {
        "id": "11Vx3cqIGa3Y"
      },
      "source": [
        "## Задание 1\n",
        "\n",
        "**(0.5 балла) Задание 1.** Знакомство с данными.\n",
        "Проанализируйте, насколько активно пользователи оставляют оценки, насколько активно фильмы получают оценки, какие оценки преобладают, как меняется количество оценок во времени. Опишите свои результаты."
      ]
    },
    {
      "cell_type": "code",
      "execution_count": 3,
      "metadata": {},
      "outputs": [
        {
          "name": "stdout",
          "output_type": "stream",
          "text": [
            "Requirement already satisfied: datatable in i:\\проекты\\jirafe\\.conda\\lib\\site-packages (1.1.0)\n"
          ]
        }
      ],
      "source": [
        "!pip install datatable"
      ]
    },
    {
      "cell_type": "code",
      "execution_count": 4,
      "metadata": {
        "id": "3sAjB4bRHKFG"
      },
      "outputs": [
        {
          "name": "stdout",
          "output_type": "stream",
          "text": [
            "Requirement already satisfied: rs-datasets in i:\\проекты\\jirafe\\.conda\\lib\\site-packages (0.5.1)\n",
            "Requirement already satisfied: datatable in i:\\проекты\\jirafe\\.conda\\lib\\site-packages (from rs-datasets) (1.1.0)\n",
            "Requirement already satisfied: pandas in i:\\проекты\\jirafe\\.conda\\lib\\site-packages (from rs-datasets) (2.0.3)\n",
            "Requirement already satisfied: gdown in i:\\проекты\\jirafe\\.conda\\lib\\site-packages (from rs-datasets) (5.1.0)\n",
            "Requirement already satisfied: pyarrow in i:\\проекты\\jirafe\\.conda\\lib\\site-packages (from rs-datasets) (15.0.2)\n",
            "Requirement already satisfied: tqdm in i:\\проекты\\jirafe\\.conda\\lib\\site-packages (from rs-datasets) (4.66.2)\n",
            "Requirement already satisfied: xlrd in i:\\проекты\\jirafe\\.conda\\lib\\site-packages (from rs-datasets) (2.0.1)\n",
            "Requirement already satisfied: kaggle in i:\\проекты\\jirafe\\.conda\\lib\\site-packages (from rs-datasets) (1.6.8)\n",
            "Requirement already satisfied: py7zr in i:\\проекты\\jirafe\\.conda\\lib\\site-packages (from rs-datasets) (0.21.0)\n",
            "Requirement already satisfied: openpyxl in i:\\проекты\\jirafe\\.conda\\lib\\site-packages (from rs-datasets) (3.1.2)\n",
            "Requirement already satisfied: beautifulsoup4 in i:\\проекты\\jirafe\\.conda\\lib\\site-packages (from gdown->rs-datasets) (4.12.3)\n",
            "Requirement already satisfied: filelock in i:\\проекты\\jirafe\\.conda\\lib\\site-packages (from gdown->rs-datasets) (3.13.1)\n",
            "Requirement already satisfied: requests[socks] in i:\\проекты\\jirafe\\.conda\\lib\\site-packages (from gdown->rs-datasets) (2.31.0)\n",
            "Requirement already satisfied: six>=1.10 in i:\\проекты\\jirafe\\.conda\\lib\\site-packages (from kaggle->rs-datasets) (1.16.0)\n",
            "Requirement already satisfied: certifi>=2023.7.22 in i:\\проекты\\jirafe\\.conda\\lib\\site-packages (from kaggle->rs-datasets) (2024.2.2)\n",
            "Requirement already satisfied: python-dateutil in i:\\проекты\\jirafe\\.conda\\lib\\site-packages (from kaggle->rs-datasets) (2.9.0.post0)\n",
            "Requirement already satisfied: python-slugify in i:\\проекты\\jirafe\\.conda\\lib\\site-packages (from kaggle->rs-datasets) (8.0.4)\n",
            "Requirement already satisfied: urllib3 in i:\\проекты\\jirafe\\.conda\\lib\\site-packages (from kaggle->rs-datasets) (2.2.1)\n",
            "Requirement already satisfied: bleach in i:\\проекты\\jirafe\\.conda\\lib\\site-packages (from kaggle->rs-datasets) (6.1.0)\n",
            "Requirement already satisfied: et-xmlfile in i:\\проекты\\jirafe\\.conda\\lib\\site-packages (from openpyxl->rs-datasets) (1.1.0)\n",
            "Requirement already satisfied: pytz>=2020.1 in i:\\проекты\\jirafe\\.conda\\lib\\site-packages (from pandas->rs-datasets) (2024.1)\n",
            "Requirement already satisfied: tzdata>=2022.1 in i:\\проекты\\jirafe\\.conda\\lib\\site-packages (from pandas->rs-datasets) (2024.1)\n",
            "Requirement already satisfied: numpy>=1.20.3 in i:\\проекты\\jirafe\\.conda\\lib\\site-packages (from pandas->rs-datasets) (1.24.4)\n",
            "Requirement already satisfied: texttable in i:\\проекты\\jirafe\\.conda\\lib\\site-packages (from py7zr->rs-datasets) (1.7.0)\n",
            "Requirement already satisfied: pycryptodomex>=3.16.0 in i:\\проекты\\jirafe\\.conda\\lib\\site-packages (from py7zr->rs-datasets) (3.20.0)\n",
            "Requirement already satisfied: pyzstd>=0.15.9 in i:\\проекты\\jirafe\\.conda\\lib\\site-packages (from py7zr->rs-datasets) (0.15.10)\n",
            "Requirement already satisfied: pyppmd<1.2.0,>=1.1.0 in i:\\проекты\\jirafe\\.conda\\lib\\site-packages (from py7zr->rs-datasets) (1.1.0)\n",
            "Requirement already satisfied: pybcj<1.1.0,>=1.0.0 in i:\\проекты\\jirafe\\.conda\\lib\\site-packages (from py7zr->rs-datasets) (1.0.2)\n",
            "Requirement already satisfied: multivolumefile>=0.2.3 in i:\\проекты\\jirafe\\.conda\\lib\\site-packages (from py7zr->rs-datasets) (0.2.3)\n",
            "Requirement already satisfied: inflate64<1.1.0,>=1.0.0 in i:\\проекты\\jirafe\\.conda\\lib\\site-packages (from py7zr->rs-datasets) (1.0.0)\n",
            "Requirement already satisfied: brotli>=1.1.0 in i:\\проекты\\jirafe\\.conda\\lib\\site-packages (from py7zr->rs-datasets) (1.1.0)\n",
            "Requirement already satisfied: psutil in i:\\проекты\\jirafe\\.conda\\lib\\site-packages (from py7zr->rs-datasets) (5.9.8)\n",
            "Requirement already satisfied: colorama in i:\\проекты\\jirafe\\.conda\\lib\\site-packages (from tqdm->rs-datasets) (0.4.6)\n",
            "Requirement already satisfied: soupsieve>1.2 in i:\\проекты\\jirafe\\.conda\\lib\\site-packages (from beautifulsoup4->gdown->rs-datasets) (2.5)\n",
            "Requirement already satisfied: webencodings in i:\\проекты\\jirafe\\.conda\\lib\\site-packages (from bleach->kaggle->rs-datasets) (0.5.1)\n",
            "Requirement already satisfied: text-unidecode>=1.3 in i:\\проекты\\jirafe\\.conda\\lib\\site-packages (from python-slugify->kaggle->rs-datasets) (1.3)\n",
            "Requirement already satisfied: charset-normalizer<4,>=2 in i:\\проекты\\jirafe\\.conda\\lib\\site-packages (from requests[socks]->gdown->rs-datasets) (3.3.2)\n",
            "Requirement already satisfied: idna<4,>=2.5 in i:\\проекты\\jirafe\\.conda\\lib\\site-packages (from requests[socks]->gdown->rs-datasets) (3.6)\n",
            "Requirement already satisfied: PySocks!=1.5.7,>=1.5.6 in i:\\проекты\\jirafe\\.conda\\lib\\site-packages (from requests[socks]->gdown->rs-datasets) (1.7.1)\n"
          ]
        }
      ],
      "source": [
        "!pip install rs-datasets"
      ]
    },
    {
      "cell_type": "code",
      "execution_count": 5,
      "metadata": {
        "colab": {
          "base_uri": "https://localhost:8080/",
          "height": 17
        },
        "id": "H_Kc_-ZAn0mv",
        "outputId": "1d92eaf8-6232-4778-9601-b5fbc3fc3bc2"
      },
      "outputs": [
        {
          "data": {
            "text/html": [
              "<style type='text/css'>\n",
              ".datatable table.frame { margin-bottom: 0; }\n",
              ".datatable table.frame thead { border-bottom: none; }\n",
              ".datatable table.frame tr.coltypes td {  color: #FFFFFF;  line-height: 6px;  padding: 0 0.5em;}\n",
              ".datatable .bool    { background: #DDDD99; }\n",
              ".datatable .object  { background: #565656; }\n",
              ".datatable .int     { background: #5D9E5D; }\n",
              ".datatable .float   { background: #4040CC; }\n",
              ".datatable .str     { background: #CC4040; }\n",
              ".datatable .time    { background: #40CC40; }\n",
              ".datatable .row_index {  background: var(--jp-border-color3);  border-right: 1px solid var(--jp-border-color0);  color: var(--jp-ui-font-color3);  font-size: 9px;}\n",
              ".datatable .frame tbody td { text-align: left; }\n",
              ".datatable .frame tr.coltypes .row_index {  background: var(--jp-border-color0);}\n",
              ".datatable th:nth-child(2) { padding-left: 12px; }\n",
              ".datatable .hellipsis {  color: var(--jp-cell-editor-border-color);}\n",
              ".datatable .vellipsis {  background: var(--jp-layout-color0);  color: var(--jp-cell-editor-border-color);}\n",
              ".datatable .na {  color: var(--jp-cell-editor-border-color);  font-size: 80%;}\n",
              ".datatable .sp {  opacity: 0.25;}\n",
              ".datatable .footer { font-size: 9px; }\n",
              ".datatable .frame_dimensions {  background: var(--jp-border-color3);  border-top: 1px solid var(--jp-border-color0);  color: var(--jp-ui-font-color3);  display: inline-block;  opacity: 0.6;  padding: 1px 10px 1px 5px;}\n",
              "</style>\n"
            ],
            "text/plain": [
              "<IPython.core.display.HTML object>"
            ]
          },
          "metadata": {},
          "output_type": "display_data"
        }
      ],
      "source": [
        "from rs_datasets import MovieLens"
      ]
    },
    {
      "cell_type": "code",
      "execution_count": 6,
      "metadata": {
        "colab": {
          "base_uri": "https://localhost:8080/",
          "height": 539
        },
        "id": "X2wCtbukn5KH",
        "outputId": "c52a5d1e-12a3-4912-c5a4-f7efb563afe6"
      },
      "outputs": [
        {
          "name": "stdout",
          "output_type": "stream",
          "text": [
            "ratings\n"
          ]
        },
        {
          "data": {
            "text/html": [
              "<div>\n",
              "<style scoped>\n",
              "    .dataframe tbody tr th:only-of-type {\n",
              "        vertical-align: middle;\n",
              "    }\n",
              "\n",
              "    .dataframe tbody tr th {\n",
              "        vertical-align: top;\n",
              "    }\n",
              "\n",
              "    .dataframe thead th {\n",
              "        text-align: right;\n",
              "    }\n",
              "</style>\n",
              "<table border=\"1\" class=\"dataframe\">\n",
              "  <thead>\n",
              "    <tr style=\"text-align: right;\">\n",
              "      <th></th>\n",
              "      <th>user_id</th>\n",
              "      <th>item_id</th>\n",
              "      <th>rating</th>\n",
              "      <th>timestamp</th>\n",
              "    </tr>\n",
              "  </thead>\n",
              "  <tbody>\n",
              "    <tr>\n",
              "      <th>0</th>\n",
              "      <td>1</td>\n",
              "      <td>1193</td>\n",
              "      <td>5</td>\n",
              "      <td>978300760</td>\n",
              "    </tr>\n",
              "    <tr>\n",
              "      <th>1</th>\n",
              "      <td>1</td>\n",
              "      <td>661</td>\n",
              "      <td>3</td>\n",
              "      <td>978302109</td>\n",
              "    </tr>\n",
              "    <tr>\n",
              "      <th>2</th>\n",
              "      <td>1</td>\n",
              "      <td>914</td>\n",
              "      <td>3</td>\n",
              "      <td>978301968</td>\n",
              "    </tr>\n",
              "  </tbody>\n",
              "</table>\n",
              "</div>"
            ],
            "text/plain": [
              "   user_id  item_id  rating  timestamp\n",
              "0        1     1193       5  978300760\n",
              "1        1      661       3  978302109\n",
              "2        1      914       3  978301968"
            ]
          },
          "metadata": {},
          "output_type": "display_data"
        },
        {
          "name": "stdout",
          "output_type": "stream",
          "text": [
            "\n",
            "users\n"
          ]
        },
        {
          "data": {
            "text/html": [
              "<div>\n",
              "<style scoped>\n",
              "    .dataframe tbody tr th:only-of-type {\n",
              "        vertical-align: middle;\n",
              "    }\n",
              "\n",
              "    .dataframe tbody tr th {\n",
              "        vertical-align: top;\n",
              "    }\n",
              "\n",
              "    .dataframe thead th {\n",
              "        text-align: right;\n",
              "    }\n",
              "</style>\n",
              "<table border=\"1\" class=\"dataframe\">\n",
              "  <thead>\n",
              "    <tr style=\"text-align: right;\">\n",
              "      <th></th>\n",
              "      <th>user_id</th>\n",
              "      <th>gender</th>\n",
              "      <th>age</th>\n",
              "      <th>occupation</th>\n",
              "      <th>zip_code</th>\n",
              "    </tr>\n",
              "  </thead>\n",
              "  <tbody>\n",
              "    <tr>\n",
              "      <th>0</th>\n",
              "      <td>1</td>\n",
              "      <td>F</td>\n",
              "      <td>1</td>\n",
              "      <td>10</td>\n",
              "      <td>48067</td>\n",
              "    </tr>\n",
              "    <tr>\n",
              "      <th>1</th>\n",
              "      <td>2</td>\n",
              "      <td>M</td>\n",
              "      <td>56</td>\n",
              "      <td>16</td>\n",
              "      <td>70072</td>\n",
              "    </tr>\n",
              "    <tr>\n",
              "      <th>2</th>\n",
              "      <td>3</td>\n",
              "      <td>M</td>\n",
              "      <td>25</td>\n",
              "      <td>15</td>\n",
              "      <td>55117</td>\n",
              "    </tr>\n",
              "  </tbody>\n",
              "</table>\n",
              "</div>"
            ],
            "text/plain": [
              "   user_id gender  age  occupation zip_code\n",
              "0        1      F    1          10    48067\n",
              "1        2      M   56          16    70072\n",
              "2        3      M   25          15    55117"
            ]
          },
          "metadata": {},
          "output_type": "display_data"
        },
        {
          "name": "stdout",
          "output_type": "stream",
          "text": [
            "\n",
            "items\n"
          ]
        },
        {
          "data": {
            "text/html": [
              "<div>\n",
              "<style scoped>\n",
              "    .dataframe tbody tr th:only-of-type {\n",
              "        vertical-align: middle;\n",
              "    }\n",
              "\n",
              "    .dataframe tbody tr th {\n",
              "        vertical-align: top;\n",
              "    }\n",
              "\n",
              "    .dataframe thead th {\n",
              "        text-align: right;\n",
              "    }\n",
              "</style>\n",
              "<table border=\"1\" class=\"dataframe\">\n",
              "  <thead>\n",
              "    <tr style=\"text-align: right;\">\n",
              "      <th></th>\n",
              "      <th>item_id</th>\n",
              "      <th>title</th>\n",
              "      <th>genres</th>\n",
              "    </tr>\n",
              "  </thead>\n",
              "  <tbody>\n",
              "    <tr>\n",
              "      <th>0</th>\n",
              "      <td>1</td>\n",
              "      <td>Toy Story (1995)</td>\n",
              "      <td>Animation|Children's|Comedy</td>\n",
              "    </tr>\n",
              "    <tr>\n",
              "      <th>1</th>\n",
              "      <td>2</td>\n",
              "      <td>Jumanji (1995)</td>\n",
              "      <td>Adventure|Children's|Fantasy</td>\n",
              "    </tr>\n",
              "    <tr>\n",
              "      <th>2</th>\n",
              "      <td>3</td>\n",
              "      <td>Grumpier Old Men (1995)</td>\n",
              "      <td>Comedy|Romance</td>\n",
              "    </tr>\n",
              "  </tbody>\n",
              "</table>\n",
              "</div>"
            ],
            "text/plain": [
              "   item_id                    title                        genres\n",
              "0        1         Toy Story (1995)   Animation|Children's|Comedy\n",
              "1        2           Jumanji (1995)  Adventure|Children's|Fantasy\n",
              "2        3  Grumpier Old Men (1995)                Comedy|Romance"
            ]
          },
          "metadata": {},
          "output_type": "display_data"
        },
        {
          "name": "stdout",
          "output_type": "stream",
          "text": [
            "\n"
          ]
        }
      ],
      "source": [
        "data = MovieLens(\"1m\")\n",
        "data.info()"
      ]
    },
    {
      "cell_type": "code",
      "execution_count": 7,
      "metadata": {
        "id": "SzLEj2iLpsHg"
      },
      "outputs": [],
      "source": [
        "def get_log_info(log, user_id='user_id', item_id='item_id'):\n",
        "    print('Длина лога = {},\\nколичество пользователей = {},\\nколичество объектов = {}'\n",
        "          .format(log.shape[0], log[user_id].nunique(), log[item_id].nunique()))"
      ]
    },
    {
      "cell_type": "code",
      "execution_count": 8,
      "metadata": {
        "colab": {
          "base_uri": "https://localhost:8080/",
          "height": 81
        },
        "id": "Q0e1K7MMIqTN",
        "outputId": "09bed6c1-51f3-48fd-f2bc-f753f3aa8523"
      },
      "outputs": [
        {
          "data": {
            "text/html": [
              "<div>\n",
              "<style scoped>\n",
              "    .dataframe tbody tr th:only-of-type {\n",
              "        vertical-align: middle;\n",
              "    }\n",
              "\n",
              "    .dataframe tbody tr th {\n",
              "        vertical-align: top;\n",
              "    }\n",
              "\n",
              "    .dataframe thead th {\n",
              "        text-align: right;\n",
              "    }\n",
              "</style>\n",
              "<table border=\"1\" class=\"dataframe\">\n",
              "  <thead>\n",
              "    <tr style=\"text-align: right;\">\n",
              "      <th></th>\n",
              "      <th>user_id</th>\n",
              "      <th>item_id</th>\n",
              "      <th>relevance</th>\n",
              "      <th>timestamp</th>\n",
              "    </tr>\n",
              "  </thead>\n",
              "  <tbody>\n",
              "    <tr>\n",
              "      <th>0</th>\n",
              "      <td>1</td>\n",
              "      <td>1193</td>\n",
              "      <td>5</td>\n",
              "      <td>2000-12-31 22:12:40</td>\n",
              "    </tr>\n",
              "  </tbody>\n",
              "</table>\n",
              "</div>"
            ],
            "text/plain": [
              "   user_id  item_id  relevance           timestamp\n",
              "0        1     1193          5 2000-12-31 22:12:40"
            ]
          },
          "execution_count": 8,
          "metadata": {},
          "output_type": "execute_result"
        }
      ],
      "source": [
        "reviews = data.ratings\n",
        "reviews.rename(columns={\"rating\": \"relevance\"}, inplace=True)\n",
        "reviews['timestamp'] = pd.to_datetime(reviews['timestamp'], unit='s')\n",
        "reviews.head(1)"
      ]
    },
    {
      "cell_type": "markdown",
      "metadata": {},
      "source": [
        "### Активность пользователем"
      ]
    },
    {
      "cell_type": "code",
      "execution_count": 9,
      "metadata": {},
      "outputs": [],
      "source": [
        "import matplotlib.pyplot as plt"
      ]
    },
    {
      "cell_type": "code",
      "execution_count": 10,
      "metadata": {},
      "outputs": [
        {
          "data": {
            "image/png": "[encoded data removed]",
            "text/plain": [
              "<Figure size 1200x600 with 1 Axes>"
            ]
          },
          "metadata": {},
          "output_type": "display_data"
        },
        {
          "name": "stdout",
          "output_type": "stream",
          "text": [
            "\n",
            "Среднее количество оценок на пользователя: 165.5975165562914\n"
          ]
        }
      ],
      "source": [
        "ratings_data = data.ratings\n",
        "\n",
        "# Подсчет общего количества оценок, оставленных каждым пользователем\n",
        "user_rating_counts = ratings_data['user_id'].value_counts()\n",
        "\n",
        "# Распределение количества оценок по пользователям\n",
        "user_rating_counts_distribution = user_rating_counts.value_counts().sort_index()\n",
        "\n",
        "# Определение среднего количества оценок на пользователя\n",
        "average_ratings_per_user = user_rating_counts.mean()\n",
        "\n",
        "# Построение гистограммы\n",
        "plt.figure(figsize=(12, 6))\n",
        "plt.bar(user_rating_counts_distribution.index, user_rating_counts_distribution.values, color='skyblue')\n",
        "plt.xlabel('Количество оценок на пользователя')\n",
        "plt.ylabel('Количество пользователей')\n",
        "plt.title('Распределение количества оценок по пользователям')\n",
        "plt.grid(axis='y', alpha=0.95)\n",
        "x_ticks = range(0, user_rating_counts_distribution.index.max(), 150)\n",
        "plt.xticks(x_ticks)\n",
        "plt.show()\n",
        "\n",
        "# Вывод среднего количества оценок на пользователя\n",
        "print(\"\\nСреднее количество оценок на пользователя:\", average_ratings_per_user)"
      ]
    },
    {
      "cell_type": "markdown",
      "metadata": {},
      "source": [
        "### Анализ фильмов"
      ]
    },
    {
      "cell_type": "markdown",
      "metadata": {},
      "source": [
        "#### Активность фильмов"
      ]
    },
    {
      "cell_type": "code",
      "execution_count": 11,
      "metadata": {},
      "outputs": [
        {
          "data": {
            "image/png": "[encoded data removed]",
            "text/plain": [
              "<Figure size 1200x600 with 1 Axes>"
            ]
          },
          "metadata": {},
          "output_type": "display_data"
        },
        {
          "name": "stdout",
          "output_type": "stream",
          "text": [
            "\n",
            "Среднее количество оценок на фильм: 269.88909875876953\n"
          ]
        }
      ],
      "source": [
        "ratings_data = data.ratings\n",
        "\n",
        "# Подсчет общего количества оценок, полученных каждым фильмом\n",
        "movie_rating_counts = ratings_data['item_id'].value_counts()\n",
        "\n",
        "# Распределение количества оценок по фильмам\n",
        "movie_rating_counts_distribution = movie_rating_counts.value_counts().sort_index()\n",
        "\n",
        "# Определение среднего количества оценок на фильм\n",
        "average_ratings_per_movie = movie_rating_counts.mean()\n",
        "\n",
        "# Построение гистограммы\n",
        "plt.figure(figsize=(12, 6))\n",
        "plt.bar(movie_rating_counts_distribution.index, movie_rating_counts_distribution.values, color='skyblue')\n",
        "plt.xlabel('Количество оценок на фильм')\n",
        "plt.ylabel('Количество фильмов')\n",
        "plt.title('Распределение количества оценок по фильмам')\n",
        "plt.grid(axis='y', alpha=0.75)\n",
        "plt.ylim(top=30) \n",
        "plt.show()\n",
        "\n",
        "# Вывод среднего количества оценок на фильм\n",
        "print(\"\\nСреднее количество оценок на фильм:\", average_ratings_per_movie)"
      ]
    },
    {
      "cell_type": "markdown",
      "metadata": {},
      "source": [
        "#### Преобладающие оценки"
      ]
    },
    {
      "cell_type": "code",
      "execution_count": 12,
      "metadata": {},
      "outputs": [
        {
          "data": {
            "text/html": [
              "<div>\n",
              "<style scoped>\n",
              "    .dataframe tbody tr th:only-of-type {\n",
              "        vertical-align: middle;\n",
              "    }\n",
              "\n",
              "    .dataframe tbody tr th {\n",
              "        vertical-align: top;\n",
              "    }\n",
              "\n",
              "    .dataframe thead th {\n",
              "        text-align: right;\n",
              "    }\n",
              "</style>\n",
              "<table border=\"1\" class=\"dataframe\">\n",
              "  <thead>\n",
              "    <tr style=\"text-align: right;\">\n",
              "      <th></th>\n",
              "      <th>user_id</th>\n",
              "      <th>item_id</th>\n",
              "      <th>relevance</th>\n",
              "      <th>timestamp</th>\n",
              "    </tr>\n",
              "  </thead>\n",
              "  <tbody>\n",
              "    <tr>\n",
              "      <th>0</th>\n",
              "      <td>1</td>\n",
              "      <td>1193</td>\n",
              "      <td>5</td>\n",
              "      <td>2000-12-31 22:12:40</td>\n",
              "    </tr>\n",
              "    <tr>\n",
              "      <th>1</th>\n",
              "      <td>1</td>\n",
              "      <td>661</td>\n",
              "      <td>3</td>\n",
              "      <td>2000-12-31 22:35:09</td>\n",
              "    </tr>\n",
              "    <tr>\n",
              "      <th>2</th>\n",
              "      <td>1</td>\n",
              "      <td>914</td>\n",
              "      <td>3</td>\n",
              "      <td>2000-12-31 22:32:48</td>\n",
              "    </tr>\n",
              "    <tr>\n",
              "      <th>3</th>\n",
              "      <td>1</td>\n",
              "      <td>3408</td>\n",
              "      <td>4</td>\n",
              "      <td>2000-12-31 22:04:35</td>\n",
              "    </tr>\n",
              "    <tr>\n",
              "      <th>4</th>\n",
              "      <td>1</td>\n",
              "      <td>2355</td>\n",
              "      <td>5</td>\n",
              "      <td>2001-01-06 23:38:11</td>\n",
              "    </tr>\n",
              "    <tr>\n",
              "      <th>...</th>\n",
              "      <td>...</td>\n",
              "      <td>...</td>\n",
              "      <td>...</td>\n",
              "      <td>...</td>\n",
              "    </tr>\n",
              "    <tr>\n",
              "      <th>1000204</th>\n",
              "      <td>6040</td>\n",
              "      <td>1091</td>\n",
              "      <td>1</td>\n",
              "      <td>2000-04-26 02:35:41</td>\n",
              "    </tr>\n",
              "    <tr>\n",
              "      <th>1000205</th>\n",
              "      <td>6040</td>\n",
              "      <td>1094</td>\n",
              "      <td>5</td>\n",
              "      <td>2000-04-25 23:21:27</td>\n",
              "    </tr>\n",
              "    <tr>\n",
              "      <th>1000206</th>\n",
              "      <td>6040</td>\n",
              "      <td>562</td>\n",
              "      <td>5</td>\n",
              "      <td>2000-04-25 23:19:06</td>\n",
              "    </tr>\n",
              "    <tr>\n",
              "      <th>1000207</th>\n",
              "      <td>6040</td>\n",
              "      <td>1096</td>\n",
              "      <td>4</td>\n",
              "      <td>2000-04-26 02:20:48</td>\n",
              "    </tr>\n",
              "    <tr>\n",
              "      <th>1000208</th>\n",
              "      <td>6040</td>\n",
              "      <td>1097</td>\n",
              "      <td>4</td>\n",
              "      <td>2000-04-26 02:19:29</td>\n",
              "    </tr>\n",
              "  </tbody>\n",
              "</table>\n",
              "<p>1000209 rows × 4 columns</p>\n",
              "</div>"
            ],
            "text/plain": [
              "         user_id  item_id  relevance           timestamp\n",
              "0              1     1193          5 2000-12-31 22:12:40\n",
              "1              1      661          3 2000-12-31 22:35:09\n",
              "2              1      914          3 2000-12-31 22:32:48\n",
              "3              1     3408          4 2000-12-31 22:04:35\n",
              "4              1     2355          5 2001-01-06 23:38:11\n",
              "...          ...      ...        ...                 ...\n",
              "1000204     6040     1091          1 2000-04-26 02:35:41\n",
              "1000205     6040     1094          5 2000-04-25 23:21:27\n",
              "1000206     6040      562          5 2000-04-25 23:19:06\n",
              "1000207     6040     1096          4 2000-04-26 02:20:48\n",
              "1000208     6040     1097          4 2000-04-26 02:19:29\n",
              "\n",
              "[1000209 rows x 4 columns]"
            ]
          },
          "execution_count": 12,
          "metadata": {},
          "output_type": "execute_result"
        }
      ],
      "source": [
        "ratings_data"
      ]
    },
    {
      "cell_type": "code",
      "execution_count": 13,
      "metadata": {},
      "outputs": [
        {
          "name": "stdout",
          "output_type": "stream",
          "text": [
            "Распределение оценок:\n"
          ]
        },
        {
          "data": {
            "image/png": "[encoded data removed]",
            "text/plain": [
              "<Figure size 800x600 with 1 Axes>"
            ]
          },
          "metadata": {},
          "output_type": "display_data"
        },
        {
          "name": "stdout",
          "output_type": "stream",
          "text": [
            "\n",
            "Средняя оценка: 3.581564453029317\n"
          ]
        }
      ],
      "source": [
        "# Подсчет распределения оценок\n",
        "rating_distribution = ratings_data['relevance'].value_counts().sort_index()\n",
        "\n",
        "# Определение средней оценки\n",
        "average_rating = ratings_data['relevance'].mean()\n",
        "\n",
        "# Вывод распределения оценок и средней оценки\n",
        "print(\"Распределение оценок:\")\n",
        "#print(rating_distribution)\n",
        "\n",
        "plt.figure(figsize=(8, 6))\n",
        "plt.bar(rating_distribution.index, rating_distribution.values, color='skyblue')\n",
        "plt.xlabel('Оценка')\n",
        "plt.ylabel('Количество оценок')\n",
        "plt.title('Распределение оценок на фильмы')\n",
        "plt.grid(axis='y', alpha=0.75)\n",
        "plt.xticks(rating_distribution.index)\n",
        "\n",
        "plt.show()\n",
        "\n",
        "print(\"\\nСредняя оценка:\", average_rating)"
      ]
    },
    {
      "cell_type": "markdown",
      "metadata": {},
      "source": [
        "#### Изменение количества оценок во времени"
      ]
    },
    {
      "cell_type": "code",
      "execution_count": 14,
      "metadata": {},
      "outputs": [
        {
          "data": {
            "image/png": "[encoded data removed]",
            "text/plain": [
              "<Figure size 640x480 with 1 Axes>"
            ]
          },
          "metadata": {},
          "output_type": "display_data"
        }
      ],
      "source": [
        "# Построение графика изменения количества оценок во времени\n",
        "ratings_data.set_index('timestamp').resample('M').size().plot()\n",
        "plt.xlabel('Дата')\n",
        "plt.ylabel('Количество оценок')\n",
        "plt.title('Изменение количества оценок во времени')\n",
        "plt.show()"
      ]
    },
    {
      "cell_type": "markdown",
      "metadata": {
        "id": "ASw6z_Y_Ga3Y"
      },
      "source": [
        "## Задание 2\n",
        "**(0.5 балла) Задание 2.**\n",
        "Фильтрация и разбиение данных\n",
        "\n",
        "Будем использовать global time split, т.е. отделим train и validation по выбранной дате."
      ]
    },
    {
      "cell_type": "markdown",
      "metadata": {
        "id": "Wyj4vdLOrxrg"
      },
      "source": [
        "Реализуйте такое разбиение:\n",
        "\n",
        "1) данные до 1 декабря 2000 года не включая - данные train\n",
        "\n",
        "2) данные с 1 декабря 2000 года включительно до 31 декабря 2000 года включительно - валидационные данные.\n",
        "\n",
        "В валидационных данных должны остаться только положительные оценки (хотим предсказать, что пользователю понравится). Будем считать положительными оценки > 3. Удалим из валидационной выборки холодных пользователей, так как большинство рассматриваемых алгоритмов не генерируют рекомендации для холодных."
      ]
    },
    {
      "cell_type": "code",
      "execution_count": 15,
      "metadata": {
        "id": "WpkuAMwbAVOi"
      },
      "outputs": [
        {
          "name": "stdout",
          "output_type": "stream",
          "text": [
            "Размер обучающего набора: (791270, 4)\n",
            "Размер валидационного набора: (14790, 4)\n"
          ]
        }
      ],
      "source": [
        "ratings_data = data.ratings\n",
        "\n",
        "# Разделение данных на обучающий и валидационный наборы\n",
        "train = ratings_data[ratings_data['timestamp'] < '2000-12-01']\n",
        "val = ratings_data[(ratings_data['timestamp'] >= '2000-12-01') & (ratings_data['timestamp'] <= '2000-12-31')]\n",
        "val = val[val['relevance'] > 3]\n",
        "\n",
        "# Удаление холодных пользователей из валидационного набора\n",
        "cold_users = set(val['user_id']) - set(train['user_id'])\n",
        "val = val[~val['user_id'].isin(cold_users)]\n",
        "\n",
        "# Вывод информации о размерах обучающего и валидационного наборов\n",
        "print(\"Размер обучающего набора:\", train.shape)\n",
        "print(\"Размер валидационного набора:\", val.shape)"
      ]
    },
    {
      "cell_type": "code",
      "execution_count": 16,
      "metadata": {
        "id": "7qNWgSOyv-Eh"
      },
      "outputs": [],
      "source": [
        "assert train.shape[0] == 791270\n",
        "assert val.shape[0] == 14790"
      ]
    },
    {
      "cell_type": "code",
      "execution_count": 17,
      "metadata": {
        "colab": {
          "base_uri": "https://localhost:8080/"
        },
        "id": "ZAi0W00r3XnS",
        "outputId": "46ef6d0c-241d-4651-a6e7-fdc29aa5324b"
      },
      "outputs": [
        {
          "name": "stdout",
          "output_type": "stream",
          "text": [
            "Длина лога = 791270,\n",
            "количество пользователей = 5365,\n",
            "количество объектов = 3662\n"
          ]
        }
      ],
      "source": [
        "get_log_info(train)"
      ]
    },
    {
      "cell_type": "code",
      "execution_count": 18,
      "metadata": {
        "colab": {
          "base_uri": "https://localhost:8080/"
        },
        "id": "gkU70z8j7Dfn",
        "outputId": "b6f1d7bb-5074-424b-8bdc-d354ed4dd04c"
      },
      "outputs": [
        {
          "name": "stdout",
          "output_type": "stream",
          "text": [
            "Длина лога = 14790,\n",
            "количество пользователей = 522,\n",
            "количество объектов = 2341\n"
          ]
        }
      ],
      "source": [
        "get_log_info(val)"
      ]
    },
    {
      "cell_type": "markdown",
      "metadata": {
        "id": "S6iypsb6Ga3Z"
      },
      "source": [
        "## Задание 3\n",
        "**(0.5 балла) Задание 3.** Базовое решение.\n",
        "\n",
        "Порекомендуем для каждого пользователя из val 20 случайных фильмов. Датасет с рекомендациями должен содержать колонки  user_id, item_id, relevance."
      ]
    },
    {
      "cell_type": "code",
      "execution_count": 19,
      "metadata": {
        "colab": {
          "base_uri": "https://localhost:8080/"
        },
        "id": "oU8vFUwfP4rR",
        "outputId": "33f79cfa-3b35-4e78-d2cb-ceb55ef2fb5f"
      },
      "outputs": [
        {
          "name": "stdout",
          "output_type": "stream",
          "text": [
            "    user_id  item_id  relevance\n",
            "5       670     2534          5\n",
            "6       670     3566          5\n",
            "8       670     3889          5\n",
            "14      670     2793          5\n",
            "0       670     3623          4\n",
            "1       670     2718          4\n",
            "4       670     3220          4\n",
            "9       670     2760          4\n",
            "15      670     2397          4\n",
            "18      670     3809          4\n",
            "7       670      352          3\n",
            "10      670     2619          3\n",
            "12      670      439          3\n",
            "13      670     3032          3\n",
            "19      670     3270          3\n",
            "2       670     2152          2\n",
            "3       670     3103          2\n",
            "11      670      339          2\n",
            "17      670     2000          2\n",
            "16      670     2393          1\n",
            "CPU times: total: 3.38 s\n",
            "Wall time: 3.4 s\n"
          ]
        }
      ],
      "source": [
        "%%time\n",
        "# YOUR CODE HERE\n",
        "validation_users = val['user_id'].unique()\n",
        "\n",
        "recommendations = []\n",
        "\n",
        "# Для каждого пользователя из валидационного набора\n",
        "for user_id in validation_users:\n",
        "    # Генерация 20 случайных фильмов\n",
        "    random_movies = np.random.choice(train['item_id'].unique(), 20, replace=False)\n",
        "    \n",
        "    # Генерация случайного скора (релевантности) для каждого фильма\n",
        "    relevance_scores = np.random.randint(1, 6, 20)  # Генерация случайных значений от 1 до 5\n",
        "    \n",
        "    # Добавление рекомендаций в список\n",
        "    for movie_id, relevance in zip(random_movies, relevance_scores):\n",
        "        recommendations.append({'user_id': user_id, 'item_id': movie_id, 'relevance': relevance})\n",
        "\n",
        "random_pred = pd.DataFrame(recommendations)\n",
        "random_pred = random_pred.sort_values(by=['user_id', 'relevance'], ascending=[True, False])\n",
        "print(random_pred.head(20))"
      ]
    },
    {
      "cell_type": "code",
      "execution_count": 20,
      "metadata": {
        "id": "dNoEtNz2_g3N"
      },
      "outputs": [],
      "source": [
        "assert random_pred.shape[0] == val['user_id'].nunique() * K"
      ]
    },
    {
      "cell_type": "code",
      "execution_count": 21,
      "metadata": {
        "colab": {
          "base_uri": "https://localhost:8080/",
          "height": 81
        },
        "id": "ttcKuJID_-mU",
        "outputId": "a7ce3606-4fc4-410a-96b7-09bd1059d277"
      },
      "outputs": [
        {
          "data": {
            "text/html": [
              "<div>\n",
              "<style scoped>\n",
              "    .dataframe tbody tr th:only-of-type {\n",
              "        vertical-align: middle;\n",
              "    }\n",
              "\n",
              "    .dataframe tbody tr th {\n",
              "        vertical-align: top;\n",
              "    }\n",
              "\n",
              "    .dataframe thead th {\n",
              "        text-align: right;\n",
              "    }\n",
              "</style>\n",
              "<table border=\"1\" class=\"dataframe\">\n",
              "  <thead>\n",
              "    <tr style=\"text-align: right;\">\n",
              "      <th></th>\n",
              "      <th>user_id</th>\n",
              "      <th>item_id</th>\n",
              "      <th>relevance</th>\n",
              "    </tr>\n",
              "  </thead>\n",
              "  <tbody>\n",
              "    <tr>\n",
              "      <th>5</th>\n",
              "      <td>670</td>\n",
              "      <td>2534</td>\n",
              "      <td>5</td>\n",
              "    </tr>\n",
              "  </tbody>\n",
              "</table>\n",
              "</div>"
            ],
            "text/plain": [
              "   user_id  item_id  relevance\n",
              "5      670     2534          5"
            ]
          },
          "execution_count": 21,
          "metadata": {},
          "output_type": "execute_result"
        }
      ],
      "source": [
        "random_pred.head(1)"
      ]
    },
    {
      "cell_type": "markdown",
      "metadata": {
        "id": "BkTfp2XQGa3a"
      },
      "source": [
        "## Задание 4\n",
        "**(1.25 балл) Задание 4.** Метрики качества.\n",
        "\n",
        "\n",
        "Используйте следующий набор метрик качества:\n",
        "- NDCG@K (необходимо реализовать) **(0.5 балла)**\n",
        "- HitRate@K (можно взять с семинара или использовать готовую реализацию)\n",
        "- Coverage@K (можно взять с семинара или использовать готовую реализацию)\n",
        "- Surprisal@K (необходимо реализовать) **(0.5 балла)**\n",
        "\n",
        "1) Реализуйте метрики NDCG@K, Surprisal@K **(1 балл)**\n",
        "\n",
        "2) **(0.25 балла)** Создайте функцию, которая генерирует словарь/dataframe с 4 метриками по предоставленному решению. Оцените baseline-решение на валидации\n",
        "\n",
        "\n",
        "Не забудьте, что мы можем считать метрику для разных значений k (например, изначально подготовили 10 рекомендаций, а считаем метрику для k = 1, 5, 10). В этом случае при подсчете метрики используются первые top-k рекомендаций и все релевантные айтемы из ground truth.\n",
        "\n",
        "Будем использовать следующие обозначения в формулах:\n",
        "\n",
        "$i$ – идентификатор пользователя, целое число от 1 до N\n",
        "\n",
        "$j$ – позиция товара в списке рекомендаций для пользователя $i$, целое число от 1 до K\n",
        "\n",
        "$N$ – количество пользователей\n",
        "\n",
        "$K$ – количество айтемов в списке рекомендаций, для которого рассчитывается метрика\n",
        "\n",
        "$\\mathbb{1}_{r_{ij}}$ - индикаторная функция, факт приобретения пользователем i продукта на позиции j  в списке рекомендаций\n",
        "\n",
        "$|Rel_i|$ - количество айтемов, с которыми были положительные взаимодействия у пользователя $i$ в тестовом периоде"
      ]
    },
    {
      "cell_type": "markdown",
      "metadata": {
        "id": "-Y_g2qIohNz2"
      },
      "source": [
        "\n",
        "### NDCG\n",
        "\n",
        "Реализуйте бинарную версию метрики NDCG (Normalized Discounted Cumulative Gain) для оценки качества ранжирования. В банирной версии фактические значения релевантности в ground truth игнорируются, используется только инофрация о факте положительного взаимодействия.\n",
        "\n",
        "1) Посчитаем DCG\n",
        "\n",
        "$$DCG@K(i) = \\sum_{j=1}^{K}\\frac{\\mathbb{1}_{r_{ij}}}{\\log_2 (j+1)}$$\n",
        "\n",
        "2) Чтобы получить Normalized метрику, вычислим максимально возможное для данного пользователя значение $DCG@K$, $IDCG@K$.\n",
        "\n",
        "$$IDCG@K(i) = max(DCG@K(i)) = \\sum_{j=1}^{K}\\frac{\\mathbb{1}_{j\\le|Rel_i|}}{\\log_2 (j+1)}$$\n",
        "\n",
        "$$nDCG@K(i) = \\frac{DCG@K(i)}{IDCG@K(i)}$$\n",
        "\n",
        "3) Результат усредним по пользователям.\n",
        "\n",
        "$$ nDCG@K = \\frac{\\sum_{i=1}^{N}nDCG@K(i)}{N}$$\n",
        "    \n"
      ]
    },
    {
      "cell_type": "markdown",
      "metadata": {
        "id": "YCVdKfKqGa3a"
      },
      "source": [
        "#### NDCG для одного пользователя"
      ]
    },
    {
      "cell_type": "code",
      "execution_count": 22,
      "metadata": {},
      "outputs": [],
      "source": [
        "import math"
      ]
    },
    {
      "cell_type": "code",
      "execution_count": 23,
      "metadata": {
        "id": "-MmNSLKPGGNf"
      },
      "outputs": [],
      "source": [
        "def ndcg_user(row, k):\n",
        "    \"\"\"\n",
        "    row: row of pd.Dataframe with columns `pred_list`, `gt_list`\n",
        "    \"\"\"\n",
        "    pred_list = row['pred_list'][:k]  # Top-K предсказанных элементов\n",
        "    gt_list = row['gt_list']  # Фактические элементы из тестового набора\n",
        "\n",
        "    def dcg_at_k(scores, k):\n",
        "        return np.sum(scores / np.log2(np.arange(2, len(scores) + 2)))\n",
        "    \n",
        "    # Создание списков релевантностей для предсказанных и фактических элементов\n",
        "    relevance_scores = [1 if item in gt_list else 0 for item in pred_list]\n",
        "    ideal_scores = [1] * min(len(gt_list), k)  # Идеальные релевантности для IDCG@K\n",
        "    #print(ideal_scores)\n",
        "\n",
        "    # Вычисление DCG@K и IDCG@K\n",
        "    dcg = dcg_at_k(relevance_scores, k)\n",
        "    idcg = dcg_at_k(ideal_scores, k)\n",
        "    #print(dcg)\n",
        "    #print(idcg)\n",
        "    \n",
        "    # Вычисление NDCG@K\n",
        "    if idcg == 0:\n",
        "        ndcg = 0  \n",
        "    else:\n",
        "        ndcg = dcg / idcg\n",
        "        \n",
        "    return ndcg"
      ]
    },
    {
      "cell_type": "code",
      "execution_count": 24,
      "metadata": {
        "id": "lFU-S9Tlq9xI"
      },
      "outputs": [],
      "source": [
        "assert math.isclose(ndcg_user(pd.Series({'user_id': 1, 'pred_list': [1, 2, 3], 'gt_list': [4, 5, 2, 6]}), k=3), 0.296, abs_tol=1e-3)\n",
        "assert math.isclose(ndcg_user(pd.Series({'user_id': 1, 'pred_list': [1, 2, 3], 'gt_list': [4, 5, 2, 6]}), k=5), 0.246, abs_tol=1e-3)\n",
        "assert math.isclose(ndcg_user(pd.Series({'user_id': 1, 'pred_list': [1, 2, 3], 'gt_list': [4, 5, 2, 6]}), k=1), 0., abs_tol=1e-3)\n",
        "assert math.isclose(ndcg_user(pd.Series({'user_id': 1, 'pred_list': [], 'gt_list': [4, 5, 2, 6]}), k=10), 0)\n",
        "assert math.isclose(ndcg_user(pd.Series({'user_id': 1, 'pred_list': [1, 3], 'gt_list': []}), k=10), 0)"
      ]
    },
    {
      "cell_type": "code",
      "execution_count": 25,
      "metadata": {
        "id": "SeT0Fwi1BZEt"
      },
      "outputs": [
        {
          "name": "stdout",
          "output_type": "stream",
          "text": [
            "        user_id  item_id  relevance           timestamp\n",
            "100423      670     3030          5 2000-11-30 23:54:01\n",
            "100428      670      912          5 2000-11-30 23:49:54\n",
            "100431      670      923          5 2000-11-30 23:49:23\n",
            "100443      670     3435          5 2000-11-30 23:49:54\n",
            "100445      670     3468          5 2000-11-30 23:54:01\n",
            "100456      670      608          5 2000-11-30 23:52:33\n",
            "100459      670     1148          5 2000-11-30 23:49:54\n",
            "100471      670     3362          5 2000-11-30 23:54:01\n",
            "100474      670     2731          5 2000-11-30 23:52:33\n",
            "100475      670     1952          5 2000-11-30 23:52:09\n",
            "100476      670       30          5 2000-11-30 23:52:32\n",
            "100484      670     1207          5 2000-11-30 23:51:29\n",
            "100494      670     1230          5 2000-11-30 23:50:34\n",
            "100411      670     1252          4 2000-11-30 23:52:33\n",
            "100412      670      720          4 2000-11-30 23:51:54\n",
            "100416      670     3949          4 2000-11-30 23:57:50\n",
            "100425      670      904          4 2000-11-30 23:52:09\n",
            "100427      670      910          4 2000-11-30 23:51:29\n",
            "100436      670     3092          4 2000-11-30 23:47:23\n",
            "100447      670     2682          4 2000-11-30 23:48:33\n"
          ]
        }
      ],
      "source": [
        "# YOUR CODE HERE: оценка NDCG для всех пользователей. На вход приходят рекомендации в формате как в задании 3\n",
        "\n",
        "# Сортировка данных по пользователям и столбцу релевантности\n",
        "ratings_data_sorted = train.sort_values(by=['user_id', 'relevance'], ascending=[True, False])\n",
        "\n",
        "# Вывод первых строк отсортированной таблицы для проверки\n",
        "print(ratings_data_sorted.head(20))"
      ]
    },
    {
      "cell_type": "code",
      "execution_count": 26,
      "metadata": {},
      "outputs": [],
      "source": [
        "# Группировка данных из random_pred по user_id и формирование списка предсказанных элементов\n",
        "pred_grouped = random_pred.groupby('user_id')['item_id'].apply(list).reset_index().rename(columns={'item_id': 'pred_list'})\n",
        "\n",
        "# Группировка данных из ratings_data_sorted по user_id и формирование списка элементов из тестовых данных\n",
        "gt_grouped = ratings_data_sorted.groupby('user_id')['item_id'].apply(list).reset_index().rename(columns={'item_id': 'gt_list'})"
      ]
    },
    {
      "cell_type": "code",
      "execution_count": 27,
      "metadata": {},
      "outputs": [
        {
          "data": {
            "text/html": [
              "<div>\n",
              "<style scoped>\n",
              "    .dataframe tbody tr th:only-of-type {\n",
              "        vertical-align: middle;\n",
              "    }\n",
              "\n",
              "    .dataframe tbody tr th {\n",
              "        vertical-align: top;\n",
              "    }\n",
              "\n",
              "    .dataframe thead th {\n",
              "        text-align: right;\n",
              "    }\n",
              "</style>\n",
              "<table border=\"1\" class=\"dataframe\">\n",
              "  <thead>\n",
              "    <tr style=\"text-align: right;\">\n",
              "      <th></th>\n",
              "      <th>user_id</th>\n",
              "      <th>pred_list</th>\n",
              "      <th>gt_list</th>\n",
              "    </tr>\n",
              "  </thead>\n",
              "  <tbody>\n",
              "    <tr>\n",
              "      <th>0</th>\n",
              "      <td>670</td>\n",
              "      <td>[2534, 3566, 3889, 2793, 3623, 2718, 3220, 276...</td>\n",
              "      <td>[3030, 912, 923, 3435, 3468, 608, 1148, 3362, ...</td>\n",
              "    </tr>\n",
              "    <tr>\n",
              "      <th>1</th>\n",
              "      <td>671</td>\n",
              "      <td>[355, 1011, 1529, 3384, 2510, 3067, 3937, 2923...</td>\n",
              "      <td>[750, 903, 904, 1292, 912, 922, 924, 296, 608,...</td>\n",
              "    </tr>\n",
              "    <tr>\n",
              "      <th>2</th>\n",
              "      <td>673</td>\n",
              "      <td>[2752, 2707, 3805, 1485, 2616, 3717, 3066, 226...</td>\n",
              "      <td>[1249, 1250, 1251, 1406, 3949, 3010, 1411, 127...</td>\n",
              "    </tr>\n",
              "    <tr>\n",
              "      <th>3</th>\n",
              "      <td>674</td>\n",
              "      <td>[2350, 1047, 1826, 1677, 2591, 224, 815, 273, ...</td>\n",
              "      <td>[1266, 2073, 750, 908, 924, 1610, 3256, 1653, ...</td>\n",
              "    </tr>\n",
              "    <tr>\n",
              "      <th>4</th>\n",
              "      <td>676</td>\n",
              "      <td>[514, 1409, 2163, 667, 1785, 1079, 2375, 1391,...</td>\n",
              "      <td>[260, 1270, 480, 3361, 1617, 3257]</td>\n",
              "    </tr>\n",
              "  </tbody>\n",
              "</table>\n",
              "</div>"
            ],
            "text/plain": [
              "   user_id                                          pred_list  \\\n",
              "0      670  [2534, 3566, 3889, 2793, 3623, 2718, 3220, 276...   \n",
              "1      671  [355, 1011, 1529, 3384, 2510, 3067, 3937, 2923...   \n",
              "2      673  [2752, 2707, 3805, 1485, 2616, 3717, 3066, 226...   \n",
              "3      674  [2350, 1047, 1826, 1677, 2591, 224, 815, 273, ...   \n",
              "4      676  [514, 1409, 2163, 667, 1785, 1079, 2375, 1391,...   \n",
              "\n",
              "                                             gt_list  \n",
              "0  [3030, 912, 923, 3435, 3468, 608, 1148, 3362, ...  \n",
              "1  [750, 903, 904, 1292, 912, 922, 924, 296, 608,...  \n",
              "2  [1249, 1250, 1251, 1406, 3949, 3010, 1411, 127...  \n",
              "3  [1266, 2073, 750, 908, 924, 1610, 3256, 1653, ...  \n",
              "4                 [260, 1270, 480, 3361, 1617, 3257]  "
            ]
          },
          "execution_count": 27,
          "metadata": {},
          "output_type": "execute_result"
        }
      ],
      "source": [
        "final_data = pd.merge(pred_grouped, gt_grouped, on='user_id')\n",
        "final_data.head()"
      ]
    },
    {
      "cell_type": "code",
      "execution_count": 28,
      "metadata": {},
      "outputs": [
        {
          "data": {
            "text/html": [
              "<div>\n",
              "<style scoped>\n",
              "    .dataframe tbody tr th:only-of-type {\n",
              "        vertical-align: middle;\n",
              "    }\n",
              "\n",
              "    .dataframe tbody tr th {\n",
              "        vertical-align: top;\n",
              "    }\n",
              "\n",
              "    .dataframe thead th {\n",
              "        text-align: right;\n",
              "    }\n",
              "</style>\n",
              "<table border=\"1\" class=\"dataframe\">\n",
              "  <thead>\n",
              "    <tr style=\"text-align: right;\">\n",
              "      <th></th>\n",
              "      <th>user_id</th>\n",
              "      <th>pred_list</th>\n",
              "      <th>gt_list</th>\n",
              "      <th>ndcg</th>\n",
              "    </tr>\n",
              "  </thead>\n",
              "  <tbody>\n",
              "    <tr>\n",
              "      <th>0</th>\n",
              "      <td>670</td>\n",
              "      <td>[2534, 3566, 3889, 2793, 3623, 2718, 3220, 276...</td>\n",
              "      <td>[3030, 912, 923, 3435, 3468, 608, 1148, 3362, ...</td>\n",
              "      <td>0.000000</td>\n",
              "    </tr>\n",
              "    <tr>\n",
              "      <th>1</th>\n",
              "      <td>671</td>\n",
              "      <td>[355, 1011, 1529, 3384, 2510, 3067, 3937, 2923...</td>\n",
              "      <td>[750, 903, 904, 1292, 912, 922, 924, 296, 608,...</td>\n",
              "      <td>0.000000</td>\n",
              "    </tr>\n",
              "    <tr>\n",
              "      <th>2</th>\n",
              "      <td>673</td>\n",
              "      <td>[2752, 2707, 3805, 1485, 2616, 3717, 3066, 226...</td>\n",
              "      <td>[1249, 1250, 1251, 1406, 3949, 3010, 1411, 127...</td>\n",
              "      <td>0.000000</td>\n",
              "    </tr>\n",
              "    <tr>\n",
              "      <th>3</th>\n",
              "      <td>674</td>\n",
              "      <td>[2350, 1047, 1826, 1677, 2591, 224, 815, 273, ...</td>\n",
              "      <td>[1266, 2073, 750, 908, 924, 1610, 3256, 1653, ...</td>\n",
              "      <td>0.000000</td>\n",
              "    </tr>\n",
              "    <tr>\n",
              "      <th>4</th>\n",
              "      <td>676</td>\n",
              "      <td>[514, 1409, 2163, 667, 1785, 1079, 2375, 1391,...</td>\n",
              "      <td>[260, 1270, 480, 3361, 1617, 3257]</td>\n",
              "      <td>0.000000</td>\n",
              "    </tr>\n",
              "    <tr>\n",
              "      <th>5</th>\n",
              "      <td>678</td>\n",
              "      <td>[3424, 3658, 2852, 229, 2809, 2219, 2581, 3470...</td>\n",
              "      <td>[1, 3408, 2692, 2858, 3844, 3114, 2333, 1721, ...</td>\n",
              "      <td>0.000000</td>\n",
              "    </tr>\n",
              "    <tr>\n",
              "      <th>6</th>\n",
              "      <td>687</td>\n",
              "      <td>[2779, 29, 418, 977, 1463, 2414, 1044, 2796, 1...</td>\n",
              "      <td>[2997, 589, 1265, 593, 1449, 3418, 2628, 3481,...</td>\n",
              "      <td>0.000000</td>\n",
              "    </tr>\n",
              "    <tr>\n",
              "      <th>7</th>\n",
              "      <td>688</td>\n",
              "      <td>[1886, 2576, 2977, 2236, 3776, 15, 2640, 1189,...</td>\n",
              "      <td>[1278, 1193, 1196, 2028, 2670, 2729, 3701]</td>\n",
              "      <td>0.000000</td>\n",
              "    </tr>\n",
              "    <tr>\n",
              "      <th>8</th>\n",
              "      <td>692</td>\n",
              "      <td>[2292, 2621, 3800, 3539, 1604, 1553, 3293, 687...</td>\n",
              "      <td>[1617, 1193, 2433, 1729, 174]</td>\n",
              "      <td>0.000000</td>\n",
              "    </tr>\n",
              "    <tr>\n",
              "      <th>9</th>\n",
              "      <td>693</td>\n",
              "      <td>[1964, 3952, 550, 2437, 851, 2286, 3230, 404, ...</td>\n",
              "      <td>[589, 736, 593, 1288, 1291, 1293, 1296, 1299, ...</td>\n",
              "      <td>0.000000</td>\n",
              "    </tr>\n",
              "    <tr>\n",
              "      <th>10</th>\n",
              "      <td>707</td>\n",
              "      <td>[562, 3335, 997, 3185, 2113, 119, 2123, 3783, ...</td>\n",
              "      <td>[589, 1, 593, 1200, 1214, 3793, 3798, 1265, 92...</td>\n",
              "      <td>0.000000</td>\n",
              "    </tr>\n",
              "    <tr>\n",
              "      <th>11</th>\n",
              "      <td>710</td>\n",
              "      <td>[207, 2973, 3809, 3883, 994, 1869, 2632, 1442,...</td>\n",
              "      <td>[2987, 2997, 589, 1, 2202, 1407, 2064, 1267, 1...</td>\n",
              "      <td>0.036356</td>\n",
              "    </tr>\n",
              "    <tr>\n",
              "      <th>12</th>\n",
              "      <td>711</td>\n",
              "      <td>[2293, 299, 1215, 1353, 2178, 1025, 2395, 544,...</td>\n",
              "      <td>[1251, 1256, 2065, 593, 2212, 1281, 903, 904, ...</td>\n",
              "      <td>0.000000</td>\n",
              "    </tr>\n",
              "    <tr>\n",
              "      <th>13</th>\n",
              "      <td>712</td>\n",
              "      <td>[1777, 594, 2712, 3851, 2213, 2997, 3149, 3626...</td>\n",
              "      <td>[592, 1274, 3213, 968, 223, 3444, 260, 2692, 2...</td>\n",
              "      <td>0.089617</td>\n",
              "    </tr>\n",
              "    <tr>\n",
              "      <th>14</th>\n",
              "      <td>714</td>\n",
              "      <td>[2095, 3532, 2858, 2379, 1099, 674, 2606, 3661...</td>\n",
              "      <td>[3793, 1259, 1, 785, 1617, 1479, 2424, 1485, 2...</td>\n",
              "      <td>0.103885</td>\n",
              "    </tr>\n",
              "    <tr>\n",
              "      <th>15</th>\n",
              "      <td>716</td>\n",
              "      <td>[614, 3711, 737, 3751, 401, 340, 3390, 3044, 3...</td>\n",
              "      <td>[589, 6, 1262, 1265, 733, 1274, 741, 2093, 912...</td>\n",
              "      <td>0.000000</td>\n",
              "    </tr>\n",
              "    <tr>\n",
              "      <th>16</th>\n",
              "      <td>721</td>\n",
              "      <td>[2429, 554, 2013, 1880, 2771, 1321, 16, 598, 2...</td>\n",
              "      <td>[587, 589, 733, 780, 786, 1499, 2617, 3274, 43...</td>\n",
              "      <td>0.000000</td>\n",
              "    </tr>\n",
              "    <tr>\n",
              "      <th>17</th>\n",
              "      <td>725</td>\n",
              "      <td>[290, 2840, 137, 3386, 1756, 874, 1988, 2405, ...</td>\n",
              "      <td>[2997, 593, 1449, 1617, 3083, 1641, 994, 232, ...</td>\n",
              "      <td>0.000000</td>\n",
              "    </tr>\n",
              "    <tr>\n",
              "      <th>18</th>\n",
              "      <td>727</td>\n",
              "      <td>[2858, 2357, 539, 3621, 3297, 121, 2014, 1428,...</td>\n",
              "      <td>[1265, 2248, 919, 3071, 3253, 3469, 2690, 440,...</td>\n",
              "      <td>0.032338</td>\n",
              "    </tr>\n",
              "    <tr>\n",
              "      <th>19</th>\n",
              "      <td>735</td>\n",
              "      <td>[1925, 2116, 1498, 2803, 3733, 1614, 1822, 235...</td>\n",
              "      <td>[1250, 2997, 3006, 3948, 593, 919, 924, 2427, ...</td>\n",
              "      <td>0.041059</td>\n",
              "    </tr>\n",
              "  </tbody>\n",
              "</table>\n",
              "</div>"
            ],
            "text/plain": [
              "    user_id                                          pred_list  \\\n",
              "0       670  [2534, 3566, 3889, 2793, 3623, 2718, 3220, 276...   \n",
              "1       671  [355, 1011, 1529, 3384, 2510, 3067, 3937, 2923...   \n",
              "2       673  [2752, 2707, 3805, 1485, 2616, 3717, 3066, 226...   \n",
              "3       674  [2350, 1047, 1826, 1677, 2591, 224, 815, 273, ...   \n",
              "4       676  [514, 1409, 2163, 667, 1785, 1079, 2375, 1391,...   \n",
              "5       678  [3424, 3658, 2852, 229, 2809, 2219, 2581, 3470...   \n",
              "6       687  [2779, 29, 418, 977, 1463, 2414, 1044, 2796, 1...   \n",
              "7       688  [1886, 2576, 2977, 2236, 3776, 15, 2640, 1189,...   \n",
              "8       692  [2292, 2621, 3800, 3539, 1604, 1553, 3293, 687...   \n",
              "9       693  [1964, 3952, 550, 2437, 851, 2286, 3230, 404, ...   \n",
              "10      707  [562, 3335, 997, 3185, 2113, 119, 2123, 3783, ...   \n",
              "11      710  [207, 2973, 3809, 3883, 994, 1869, 2632, 1442,...   \n",
              "12      711  [2293, 299, 1215, 1353, 2178, 1025, 2395, 544,...   \n",
              "13      712  [1777, 594, 2712, 3851, 2213, 2997, 3149, 3626...   \n",
              "14      714  [2095, 3532, 2858, 2379, 1099, 674, 2606, 3661...   \n",
              "15      716  [614, 3711, 737, 3751, 401, 340, 3390, 3044, 3...   \n",
              "16      721  [2429, 554, 2013, 1880, 2771, 1321, 16, 598, 2...   \n",
              "17      725  [290, 2840, 137, 3386, 1756, 874, 1988, 2405, ...   \n",
              "18      727  [2858, 2357, 539, 3621, 3297, 121, 2014, 1428,...   \n",
              "19      735  [1925, 2116, 1498, 2803, 3733, 1614, 1822, 235...   \n",
              "\n",
              "                                              gt_list      ndcg  \n",
              "0   [3030, 912, 923, 3435, 3468, 608, 1148, 3362, ...  0.000000  \n",
              "1   [750, 903, 904, 1292, 912, 922, 924, 296, 608,...  0.000000  \n",
              "2   [1249, 1250, 1251, 1406, 3949, 3010, 1411, 127...  0.000000  \n",
              "3   [1266, 2073, 750, 908, 924, 1610, 3256, 1653, ...  0.000000  \n",
              "4                  [260, 1270, 480, 3361, 1617, 3257]  0.000000  \n",
              "5   [1, 3408, 2692, 2858, 3844, 3114, 2333, 1721, ...  0.000000  \n",
              "6   [2997, 589, 1265, 593, 1449, 3418, 2628, 3481,...  0.000000  \n",
              "7          [1278, 1193, 1196, 2028, 2670, 2729, 3701]  0.000000  \n",
              "8                       [1617, 1193, 2433, 1729, 174]  0.000000  \n",
              "9   [589, 736, 593, 1288, 1291, 1293, 1296, 1299, ...  0.000000  \n",
              "10  [589, 1, 593, 1200, 1214, 3793, 3798, 1265, 92...  0.000000  \n",
              "11  [2987, 2997, 589, 1, 2202, 1407, 2064, 1267, 1...  0.036356  \n",
              "12  [1251, 1256, 2065, 593, 2212, 1281, 903, 904, ...  0.000000  \n",
              "13  [592, 1274, 3213, 968, 223, 3444, 260, 2692, 2...  0.089617  \n",
              "14  [3793, 1259, 1, 785, 1617, 1479, 2424, 1485, 2...  0.103885  \n",
              "15  [589, 6, 1262, 1265, 733, 1274, 741, 2093, 912...  0.000000  \n",
              "16  [587, 589, 733, 780, 786, 1499, 2617, 3274, 43...  0.000000  \n",
              "17  [2997, 593, 1449, 1617, 3083, 1641, 994, 232, ...  0.000000  \n",
              "18  [1265, 2248, 919, 3071, 3253, 3469, 2690, 440,...  0.032338  \n",
              "19  [1250, 2997, 3006, 3948, 593, 919, 924, 2427, ...  0.041059  "
            ]
          },
          "execution_count": 28,
          "metadata": {},
          "output_type": "execute_result"
        }
      ],
      "source": [
        "final_data['ndcg'] = final_data.apply(lambda row: ndcg_user(row, k=20), axis=1)\n",
        "final_data.head(20)"
      ]
    },
    {
      "cell_type": "code",
      "execution_count": 29,
      "metadata": {},
      "outputs": [
        {
          "name": "stdout",
          "output_type": "stream",
          "text": [
            "Average NDCG:  0.05813077720889982\n"
          ]
        }
      ],
      "source": [
        "average_ndcg = final_data['ndcg'].mean()\n",
        "print(\"Average NDCG: \", average_ndcg)"
      ]
    },
    {
      "cell_type": "markdown",
      "metadata": {
        "id": "Cli_6-O6tYD1"
      },
      "source": [
        "### Surprisal\n",
        "Посмотрим, насколько наши рекомендации хороши с точки зрения новизны для пользователя. В качестве новизны будем рассматривать \"непопулярность\" айтемов в рекомендациях.\n",
        "\n",
        "1. Будем рассматривать собственную информацию item-а как меру его новизны для пользователей.\n",
        "\n",
        "    $$selfInformation(i) = -\\log_2 \\frac{|u_i|}{N}, $$\n",
        "    где $i$ - объект (item), $N$ - число пользователей в обучающей выборке, $|u_i|$ - число пользователей, взаимодействовавших с объектом $i$ в обучающей выборке.\n",
        "\n",
        "\n",
        "2. Собственная информация определяется для item-а, а значение метрики мы хотим считать для пользователя и $k$ - количества рекомендаций. Для подсчета Surprisal пользователя усредним значения собственной информации в топ-k рекомендациях этого пользователя.\n",
        "\n",
        "    Чтобы получить значения от 0 до 1, разделим значение метрики для пользователя на максимально возможно значение метрики равное $log_2 N$.\n",
        "\n",
        "$$Surprisal(u, k) = \\frac{1}{k log_2 N} \\sum_{i}^{k}selfInformation(i)$$\n",
        "\n",
        "\n",
        "3. Результат усредним по пользователям.\n",
        "\n",
        "Что делать с холодными item-ами при подсчете $selfInformation$? Максимально простой вариант — считать, что для них было взаимодействие с одним пользователем.\n",
        "\n",
        "Обратите внимание, что self information можно расчитать один раз при инициализации метрики. Возможно, эту метрику стоит сделать классом."
      ]
    },
    {
      "cell_type": "code",
      "execution_count": 30,
      "metadata": {},
      "outputs": [],
      "source": [
        "class Surprisal:\n",
        "    def __init__(self, log: pd.DataFrame):\n",
        "        self.log = log\n",
        "        self.N = log['user_id'].nunique()\n",
        "        self.item_info = self.calculate_item_info()\n",
        "\n",
        "    def calculate_item_info(self):\n",
        "        item_interactions = self.log.groupby('item_id')['user_id'].nunique().reset_index()\n",
        "        item_interactions.columns = ['item_id', 'num_users']\n",
        "        item_interactions['self_info'] = -np.log2(item_interactions['num_users'] / self.N)\n",
        "        return item_interactions.set_index('item_id')['self_info']\n",
        "\n",
        "    def __call__(self, pred, k):\n",
        "        def user_surprisal(user_pred):\n",
        "            top_k_items = user_pred['pred_list'][:k]              \n",
        "            return sum(self.item_info.get(item, -np.log2(1 / self.N)) for item in top_k_items) / (k * np.log2(self.N)) # -np.log2(1 / self.N) Холодные item-ы\n",
        "        \n",
        "        # Группировка по user_id и создание списка item_id для каждого пользователя\n",
        "        pred_grouped = pred.groupby('user_id')['item_id'].apply(list).reset_index().rename(columns={'item_id': 'pred_list'})\n",
        "        user_surprisal_values = []\n",
        "        for index, row in pred_grouped.iterrows():\n",
        "            user_surprisal_value = user_surprisal(row)\n",
        "            user_surprisal_values.append(user_surprisal_value)\n",
        "            \n",
        "        #print(np.mean(user_surprisal_values))\n",
        "        return np.mean(user_surprisal_values)"
      ]
    },
    {
      "cell_type": "code",
      "execution_count": 31,
      "metadata": {
        "id": "ohDN2k-ztz-z"
      },
      "outputs": [],
      "source": [
        "surp = Surprisal(pd.DataFrame({'user_id': [1, 2, 3, 3], 'item_id': [1, 2, 2, 3], 'relevance': [0.5, 0.1, 1., 0.1]}))\n",
        "assert math.isclose(surp(pd.DataFrame({'user_id': [1], 'item_id': [4], 'relevance': [0.5]}), k=1), 1)\n",
        "assert math.isclose(surp(pd.DataFrame({'user_id': [1], 'item_id': [4], 'relevance': [0.5]}), k=2), 0.5)\n",
        "assert math.isclose(surp(pd.DataFrame({'user_id': [2, 2], 'item_id': [3, 2], 'relevance': [0.1, 1]}), k=2), 0.685, abs_tol=1e-3)\n",
        "assert math.isclose(surp(pd.DataFrame({'user_id': [1, 2, 2], 'item_id': [4, 3, 2], 'relevance': [0.5, 0.1, 1]}), k=2), (0.684 + 0.5) / 2, abs_tol=1e-3)"
      ]
    },
    {
      "cell_type": "code",
      "execution_count": 32,
      "metadata": {
        "id": "Wp6f5myWBObw"
      },
      "outputs": [],
      "source": [
        "# YOUR CODE HERE: оценка 4 метрик для рекомендаций из задания 3"
      ]
    },
    {
      "cell_type": "code",
      "execution_count": 33,
      "metadata": {},
      "outputs": [
        {
          "name": "stdout",
          "output_type": "stream",
          "text": [
            "Surprisal score for random predictions: 0.502482628303648\n"
          ]
        }
      ],
      "source": [
        "surp = Surprisal(ratings_data_sorted)\n",
        "surprisal_score = surp(random_pred, K)\n",
        "print(\"Surprisal score for random predictions:\", surprisal_score)"
      ]
    },
    {
      "cell_type": "markdown",
      "metadata": {},
      "source": [
        "#### HitRate"
      ]
    },
    {
      "cell_type": "code",
      "execution_count": 34,
      "metadata": {},
      "outputs": [],
      "source": [
        "def user_hr(row):\n",
        "    \"\"\"\n",
        "    Calculate HitRate value.\n",
        "\n",
        "    'row' contains\n",
        "        a list of ground truth items in ``gt_items`` and\n",
        "        a list of recommended items in ``pred_list``.\n",
        "    \"\"\"\n",
        "    for item in row['pred_list']:\n",
        "        if item in row['gt_list']:\n",
        "            return 1\n",
        "    return 0"
      ]
    },
    {
      "cell_type": "markdown",
      "metadata": {},
      "source": [
        "#### Coverage"
      ]
    },
    {
      "cell_type": "code",
      "execution_count": 35,
      "metadata": {},
      "outputs": [],
      "source": [
        "def coverage(pred, k, all_items=train['item_id']):\n",
        "    pred_to_consider = set(leave_top_k(pred, k)['item_id'].values)\n",
        "    all_items = set(all_items.values)\n",
        "    return len(pred_to_consider & all_items) / len(all_items)"
      ]
    },
    {
      "cell_type": "code",
      "execution_count": 36,
      "metadata": {},
      "outputs": [],
      "source": [
        "def metric_wrap(pred, ground_truth, k, metric_by_user):\n",
        "    \"\"\"\n",
        "    Prepare data for metric calculation (create dataframe with columns 'user_id', 'pred_list', 'gt_list').\n",
        "\n",
        "    'pred_list' is a list of top-k recommendation ordered by relevance (most relevant is the first)\n",
        "    'gt_list' is a list of items from tests data.\n",
        "    Return mean metric value and dataframe with metric value for each user\n",
        "    \"\"\"\n",
        "    pred_cropped = leave_top_k(pred, k)\n",
        "    # prepare score lists\n",
        "    pred_grouped = (pred_cropped\n",
        "                .sort_values(['user_id', 'relevance'], ascending=[False, False])\n",
        "                .groupby('user_id')['item_id']\n",
        "                .apply(list).rename('pred_list')\n",
        "               )\n",
        "    gt_grouped = ground_truth.groupby('user_id')['item_id'].apply(list).rename('gt_list')\n",
        "    to_compare = gt_grouped.to_frame().join(pred_grouped, how='left')\n",
        "    to_compare['pred_list'] = to_compare['pred_list'].apply(lambda x: x if isinstance(x, list) else [])\n",
        "    # compute metric\n",
        "    metric_by_user = to_compare.apply(metric_by_user, axis=1)\n",
        "    return metric_by_user.mean(), metric_by_user"
      ]
    },
    {
      "cell_type": "code",
      "execution_count": 37,
      "metadata": {},
      "outputs": [],
      "source": [
        "def leave_top_k(pred: pd.DataFrame,\n",
        "                 k: int=K,\n",
        "                 group_by_col: str='user_id',\n",
        "                 order_by_col: str='relevance') -> pd.DataFrame:\n",
        "    \"\"\"\n",
        "    crop predictions to leave top-k recommendations for each user\n",
        "    \"\"\"\n",
        "    if pred.groupby(group_by_col)[group_by_col].count().max() <= k:\n",
        "        return pred\n",
        "    cropped_pred = deepcopy(pred)\n",
        "    cropped_pred['rank'] = (cropped_pred\n",
        "                            .groupby(group_by_col)[[order_by_col]]\n",
        "                            .rank(method=\"first\", ascending=False))\n",
        "    cropped_pred = cropped_pred[cropped_pred['rank'] <= k].drop(columns=['rank'])\n",
        "    return cropped_pred"
      ]
    },
    {
      "cell_type": "code",
      "execution_count": 38,
      "metadata": {},
      "outputs": [
        {
          "name": "stdout",
          "output_type": "stream",
          "text": [
            "Hit rate:  0.05424044734389562\n",
            "Coverage:  0.9404696886947024\n"
          ]
        }
      ],
      "source": [
        "hit_rate = metric_wrap(pred=random_pred, ground_truth=ratings_data_sorted, k=K, metric_by_user=user_hr)[0]\n",
        "coverage_ = coverage(pred=random_pred, k=K)\n",
        "print('Hit rate: ', hit_rate)\n",
        "print('Coverage: ', coverage_)"
      ]
    },
    {
      "cell_type": "markdown",
      "metadata": {},
      "source": [
        "#### Функция, которая генерирует словарь с метриками"
      ]
    },
    {
      "cell_type": "code",
      "execution_count": 39,
      "metadata": {},
      "outputs": [],
      "source": [
        "def evaluate_metrics(pred, data_sorted, K):\n",
        "    # Группировка данных из pred по user_id и формирование списка предсказанных элементов\n",
        "    pred_grouped = pred.groupby('user_id')['item_id'].apply(list).reset_index().rename(columns={'item_id': 'pred_list'})\n",
        "\n",
        "    # Группировка данных из data_sorted по user_id и формирование списка элементов из тестовых данных\n",
        "    gt_grouped = data_sorted.groupby('user_id')['item_id'].apply(list).reset_index().rename(columns={'item_id': 'gt_list'})\n",
        "    \n",
        "    final_data = pd.merge(pred_grouped, gt_grouped, on='user_id')\n",
        "    \n",
        "    # Вычисление NDCG\n",
        "    final_data['ndcg'] = final_data.apply(lambda row: ndcg_user(row, k=K), axis=1)\n",
        "    average_ndcg = final_data['ndcg'].mean()\n",
        "    \n",
        "    # Вычисление Surprisal\n",
        "    surp = Surprisal(data_sorted)\n",
        "    surprisal_score = surp(pred, K)\n",
        "    \n",
        "    # Вычисление Hit Rate\n",
        "    hit_rate = metric_wrap(pred=pred, ground_truth=data_sorted, k=K, metric_by_user=user_hr)[0]\n",
        "    \n",
        "    # Вычисление Coverage\n",
        "    coverage_ = coverage(pred=pred, k=K)\n",
        "    \n",
        "    # Создание словаря с метриками\n",
        "    metrics_dict = {\n",
        "        'NDCG': average_ndcg,\n",
        "        'Surprisal': surprisal_score,\n",
        "        'Hit Rate': hit_rate,\n",
        "        'Coverage': coverage_\n",
        "    }\n",
        "    \n",
        "    return metrics_dict"
      ]
    },
    {
      "cell_type": "markdown",
      "metadata": {},
      "source": [
        "#### Для Train"
      ]
    },
    {
      "cell_type": "code",
      "execution_count": 40,
      "metadata": {},
      "outputs": [
        {
          "name": "stdout",
          "output_type": "stream",
          "text": [
            "{'NDCG': 0.05813077720889982, 'Surprisal': 0.502482628303648, 'Hit Rate': 0.05424044734389562, 'Coverage': 0.9404696886947024}\n"
          ]
        }
      ],
      "source": [
        "# Пример использования функции для оценки baseline-решения на валидации\n",
        "metrics_result = evaluate_metrics(random_pred, ratings_data_sorted, K)\n",
        "print(metrics_result)"
      ]
    },
    {
      "cell_type": "code",
      "execution_count": 41,
      "metadata": {},
      "outputs": [
        {
          "data": {
            "image/png": "[encoded data removed]",
            "text/plain": [
              "<Figure size 1000x600 with 1 Axes>"
            ]
          },
          "metadata": {},
          "output_type": "display_data"
        }
      ],
      "source": [
        "metrics_df = pd.DataFrame.from_dict(metrics_result, orient='index', columns=['Value'])\n",
        "metrics_df.reset_index(inplace=True)\n",
        "metrics_df.rename(columns={'index': 'Metric'}, inplace=True)\n",
        "\n",
        "# Создание графика\n",
        "plt.figure(figsize=(10, 6))\n",
        "plt.bar(metrics_df['Metric'], metrics_df['Value'], color='skyblue')\n",
        "plt.xlabel('Metrics')\n",
        "plt.ylabel('Values')\n",
        "plt.title('Metrics Evaluation')\n",
        "plt.ylim(0, 1) \n",
        "plt.show()"
      ]
    },
    {
      "cell_type": "markdown",
      "metadata": {},
      "source": [
        "#### Для Val"
      ]
    },
    {
      "cell_type": "code",
      "execution_count": 42,
      "metadata": {},
      "outputs": [],
      "source": [
        "ratings_val_data_sorted = val.sort_values(by=['user_id', 'relevance'], ascending=[True, False])"
      ]
    },
    {
      "cell_type": "code",
      "execution_count": 43,
      "metadata": {},
      "outputs": [
        {
          "name": "stdout",
          "output_type": "stream",
          "text": [
            "{'NDCG': 0.007461049119318149, 'Surprisal': 0.8639720918541696, 'Hit Rate': 0.11494252873563218, 'Coverage': 0.9404696886947024}\n"
          ]
        }
      ],
      "source": [
        "# Пример использования функции для оценки baseline-решения на валидации\n",
        "metrics_result = evaluate_metrics(random_pred, ratings_val_data_sorted, K)\n",
        "print(metrics_result)"
      ]
    },
    {
      "cell_type": "code",
      "execution_count": 44,
      "metadata": {},
      "outputs": [
        {
          "data": {
            "image/png": "[encoded data removed]",
            "text/plain": [
              "<Figure size 1000x600 with 1 Axes>"
            ]
          },
          "metadata": {},
          "output_type": "display_data"
        }
      ],
      "source": [
        "metrics_df = pd.DataFrame.from_dict(metrics_result, orient='index', columns=['Value'])\n",
        "metrics_df.reset_index(inplace=True)\n",
        "metrics_df.rename(columns={'index': 'Metric'}, inplace=True)\n",
        "\n",
        "# Создание графика\n",
        "plt.figure(figsize=(10, 6))\n",
        "plt.bar(metrics_df['Metric'], metrics_df['Value'], color='skyblue')\n",
        "plt.xlabel('Metrics')\n",
        "plt.ylabel('Values')\n",
        "plt.title('Metrics Evaluation')\n",
        "plt.ylim(0, 1) \n",
        "plt.show()"
      ]
    },
    {
      "cell_type": "markdown",
      "metadata": {
        "id": "tDWZDgFhGa3a"
      },
      "source": [
        "## Задание 5\n",
        "**(1.25 балла) Задание 5.** item-based knn\n",
        "\n",
        "1) **(0.5 балла)** Примените [CosineRecommender](https://benfred.github.io/implicit/api/models/cpu/knn.html) из библиотеки [implicit](https://github.com/benfred/implicit). Оцените влияние количества соседей (параметр K) на качество рекомендаций (по 4 реализованным метрикам). Постройте график зависимости NDCG@20 от числа соседей.\n",
        "\n",
        "2) **(0.5 балла)** Разберитесь, в чем состоит идея использования весов tfidf и bm25, например, по [этой статье](https://www.benfrederickson.com/distance-metrics/). Выберите один из способов (tfidf или bm25) взвешивания, опишите текстом основную идею. Примените выбранную модель, подберите гиперпараметры на отложенных данных (разбейте самостоятельно) и оцените качество на val-датасете.\n",
        "\n",
        "3) **(0.25 балла)** Повторите эксперимент, используя для обучения только положительные оценки (> 3). Не забудьте при фильтрации просмотренных учесть все взаимодействия (не только положительные). Как это повлияло на качество?\n",
        "\n",
        "Удалось ли достичь лучшего качества, чем с использованием Cosine?"
      ]
    },
    {
      "cell_type": "code",
      "execution_count": 45,
      "metadata": {
        "id": "0INi8W3i7KMq"
      },
      "outputs": [
        {
          "name": "stdout",
          "output_type": "stream",
          "text": [
            "Requirement already satisfied: implicit in i:\\проекты\\jirafe\\.conda\\lib\\site-packages (0.7.2)\n",
            "Requirement already satisfied: numpy>=1.17.0 in i:\\проекты\\jirafe\\.conda\\lib\\site-packages (from implicit) (1.24.4)\n",
            "Requirement already satisfied: scipy>=0.16 in i:\\проекты\\jirafe\\.conda\\lib\\site-packages (from implicit) (1.10.1)\n",
            "Requirement already satisfied: tqdm>=4.27 in i:\\проекты\\jirafe\\.conda\\lib\\site-packages (from implicit) (4.66.2)\n",
            "Requirement already satisfied: threadpoolctl in i:\\проекты\\jirafe\\.conda\\lib\\site-packages (from implicit) (3.4.0)\n",
            "Requirement already satisfied: colorama in i:\\проекты\\jirafe\\.conda\\lib\\site-packages (from tqdm>=4.27->implicit) (0.4.6)\n"
          ]
        }
      ],
      "source": [
        "! pip install implicit"
      ]
    },
    {
      "cell_type": "code",
      "execution_count": 46,
      "metadata": {},
      "outputs": [
        {
          "data": {
            "text/html": [
              "<div>\n",
              "<style scoped>\n",
              "    .dataframe tbody tr th:only-of-type {\n",
              "        vertical-align: middle;\n",
              "    }\n",
              "\n",
              "    .dataframe tbody tr th {\n",
              "        vertical-align: top;\n",
              "    }\n",
              "\n",
              "    .dataframe thead th {\n",
              "        text-align: right;\n",
              "    }\n",
              "</style>\n",
              "<table border=\"1\" class=\"dataframe\">\n",
              "  <thead>\n",
              "    <tr style=\"text-align: right;\">\n",
              "      <th></th>\n",
              "      <th>user_id</th>\n",
              "      <th>item_id</th>\n",
              "      <th>relevance</th>\n",
              "      <th>timestamp</th>\n",
              "    </tr>\n",
              "  </thead>\n",
              "  <tbody>\n",
              "    <tr>\n",
              "      <th>100409</th>\n",
              "      <td>670</td>\n",
              "      <td>3935</td>\n",
              "      <td>3</td>\n",
              "      <td>2000-11-30 23:49:23</td>\n",
              "    </tr>\n",
              "    <tr>\n",
              "      <th>100411</th>\n",
              "      <td>670</td>\n",
              "      <td>1252</td>\n",
              "      <td>4</td>\n",
              "      <td>2000-11-30 23:52:33</td>\n",
              "    </tr>\n",
              "    <tr>\n",
              "      <th>100412</th>\n",
              "      <td>670</td>\n",
              "      <td>720</td>\n",
              "      <td>4</td>\n",
              "      <td>2000-11-30 23:51:54</td>\n",
              "    </tr>\n",
              "    <tr>\n",
              "      <th>100415</th>\n",
              "      <td>670</td>\n",
              "      <td>3948</td>\n",
              "      <td>1</td>\n",
              "      <td>2000-11-30 23:58:06</td>\n",
              "    </tr>\n",
              "    <tr>\n",
              "      <th>100416</th>\n",
              "      <td>670</td>\n",
              "      <td>3949</td>\n",
              "      <td>4</td>\n",
              "      <td>2000-11-30 23:57:50</td>\n",
              "    </tr>\n",
              "  </tbody>\n",
              "</table>\n",
              "</div>"
            ],
            "text/plain": [
              "        user_id  item_id  relevance           timestamp\n",
              "100409      670     3935          3 2000-11-30 23:49:23\n",
              "100411      670     1252          4 2000-11-30 23:52:33\n",
              "100412      670      720          4 2000-11-30 23:51:54\n",
              "100415      670     3948          1 2000-11-30 23:58:06\n",
              "100416      670     3949          4 2000-11-30 23:57:50"
            ]
          },
          "execution_count": 46,
          "metadata": {},
          "output_type": "execute_result"
        }
      ],
      "source": [
        "train.head()"
      ]
    },
    {
      "cell_type": "code",
      "execution_count": 47,
      "metadata": {},
      "outputs": [
        {
          "name": "stderr",
          "output_type": "stream",
          "text": [
            "C:\\Users\\Empty\\AppData\\Local\\Temp\\ipykernel_13564\\2567158199.py:1: SettingWithCopyWarning: \n",
            "A value is trying to be set on a copy of a slice from a DataFrame.\n",
            "Try using .loc[row_indexer,col_indexer] = value instead\n",
            "\n",
            "See the caveats in the documentation: https://pandas.pydata.org/pandas-docs/stable/user_guide/indexing.html#returning-a-view-versus-a-copy\n",
            "  train['relevance'] = train['relevance'].astype(float)\n"
          ]
        }
      ],
      "source": [
        "train['relevance'] = train['relevance'].astype(float)\n",
        "train = train.drop('timestamp', axis=1)"
      ]
    },
    {
      "cell_type": "code",
      "execution_count": 82,
      "metadata": {},
      "outputs": [],
      "source": [
        "from collections import defaultdict\n",
        "from scipy.sparse import csr_matrix, dok_matrix\n",
        "user_num = train[\"user_id\"].max() + 1\n",
        "item_num = train[\"item_id\"].max() + 1\n",
        "\n",
        "train_mat = defaultdict(float)\n",
        "for _, user, item, rel in train[[\"user_id\", \"item_id\", \"relevance\"]].itertuples():\n",
        "    train_mat[user, item] = rel\n",
        "rating_matrix = dok_matrix((user_num, item_num), dtype=np.float32)\n",
        "dict.update(rating_matrix, train_mat)"
      ]
    },
    {
      "cell_type": "code",
      "execution_count": 49,
      "metadata": {},
      "outputs": [
        {
          "name": "stderr",
          "output_type": "stream",
          "text": [
            "i:\\Проекты\\jirafe\\.conda\\lib\\site-packages\\tqdm\\auto.py:21: TqdmWarning: IProgress not found. Please update jupyter and ipywidgets. See https://ipywidgets.readthedocs.io/en/stable/user_install.html\n",
            "  from .autonotebook import tqdm as notebook_tqdm\n",
            "i:\\Проекты\\jirafe\\.conda\\lib\\site-packages\\implicit\\utils.py:164: ParameterWarning: Method expects CSR input, and was passed coo_matrix instead. Converting to CSR took 0.03902602195739746 seconds\n",
            "  warnings.warn(\n",
            "100%|██████████| 3953/3953 [00:00<00:00, 21362.81it/s]\n"
          ]
        }
      ],
      "source": [
        "from implicit.nearest_neighbours import CosineRecommender\n",
        "model = CosineRecommender(K = 20)\n",
        "model.fit(rating_matrix)"
      ]
    },
    {
      "cell_type": "code",
      "execution_count": 50,
      "metadata": {},
      "outputs": [],
      "source": [
        "users_list = train['user_id'].unique()\n",
        "ids, scores = model.recommend(users_list, csr_matrix(rating_matrix[users_list]), 20)"
      ]
    },
    {
      "cell_type": "code",
      "execution_count": 51,
      "metadata": {},
      "outputs": [],
      "source": [
        "recommendations = []\n",
        "for i, user_id in enumerate(users_list):\n",
        "    for j in range(len(ids[i])):\n",
        "        recommendations.append([user_id, ids[i][j], scores[i][j]])"
      ]
    },
    {
      "cell_type": "code",
      "execution_count": 52,
      "metadata": {},
      "outputs": [
        {
          "data": {
            "text/html": [
              "<div>\n",
              "<style scoped>\n",
              "    .dataframe tbody tr th:only-of-type {\n",
              "        vertical-align: middle;\n",
              "    }\n",
              "\n",
              "    .dataframe tbody tr th {\n",
              "        vertical-align: top;\n",
              "    }\n",
              "\n",
              "    .dataframe thead th {\n",
              "        text-align: right;\n",
              "    }\n",
              "</style>\n",
              "<table border=\"1\" class=\"dataframe\">\n",
              "  <thead>\n",
              "    <tr style=\"text-align: right;\">\n",
              "      <th></th>\n",
              "      <th>user_id</th>\n",
              "      <th>item_id</th>\n",
              "      <th>relevance</th>\n",
              "    </tr>\n",
              "  </thead>\n",
              "  <tbody>\n",
              "    <tr>\n",
              "      <th>0</th>\n",
              "      <td>670</td>\n",
              "      <td>1247</td>\n",
              "      <td>29.091484</td>\n",
              "    </tr>\n",
              "    <tr>\n",
              "      <th>1</th>\n",
              "      <td>670</td>\n",
              "      <td>858</td>\n",
              "      <td>26.629059</td>\n",
              "    </tr>\n",
              "    <tr>\n",
              "      <th>2</th>\n",
              "      <td>670</td>\n",
              "      <td>908</td>\n",
              "      <td>22.294863</td>\n",
              "    </tr>\n",
              "    <tr>\n",
              "      <th>3</th>\n",
              "      <td>670</td>\n",
              "      <td>903</td>\n",
              "      <td>19.798117</td>\n",
              "    </tr>\n",
              "    <tr>\n",
              "      <th>4</th>\n",
              "      <td>670</td>\n",
              "      <td>750</td>\n",
              "      <td>17.594332</td>\n",
              "    </tr>\n",
              "  </tbody>\n",
              "</table>\n",
              "</div>"
            ],
            "text/plain": [
              "   user_id  item_id  relevance\n",
              "0      670     1247  29.091484\n",
              "1      670      858  26.629059\n",
              "2      670      908  22.294863\n",
              "3      670      903  19.798117\n",
              "4      670      750  17.594332"
            ]
          },
          "execution_count": 52,
          "metadata": {},
          "output_type": "execute_result"
        }
      ],
      "source": [
        "recommendations_df = pd.DataFrame(recommendations, columns=['user_id', 'item_id', 'relevance'])\n",
        "recommendations_df.head()"
      ]
    },
    {
      "cell_type": "code",
      "execution_count": 53,
      "metadata": {},
      "outputs": [],
      "source": [
        "metrics_results = evaluate_metrics(recommendations_df, val, 20)"
      ]
    },
    {
      "cell_type": "code",
      "execution_count": 54,
      "metadata": {},
      "outputs": [
        {
          "data": {
            "text/plain": [
              "{'NDCG': 0.12880935695065115,\n",
              " 'Surprisal': 0.5086480758593466,\n",
              " 'Hit Rate': 0.49616858237547895,\n",
              " 'Coverage': 0.2528672856362643}"
            ]
          },
          "execution_count": 54,
          "metadata": {},
          "output_type": "execute_result"
        }
      ],
      "source": [
        "metrics_results"
      ]
    },
    {
      "cell_type": "code",
      "execution_count": 55,
      "metadata": {},
      "outputs": [
        {
          "name": "stderr",
          "output_type": "stream",
          "text": [
            "i:\\Проекты\\jirafe\\.conda\\lib\\site-packages\\implicit\\utils.py:164: ParameterWarning: Method expects CSR input, and was passed coo_matrix instead. Converting to CSR took 0.03900885581970215 seconds\n",
            "  warnings.warn(\n",
            "100%|██████████| 3953/3953 [00:00<00:00, 24395.68it/s]\n",
            "i:\\Проекты\\jirafe\\.conda\\lib\\site-packages\\implicit\\utils.py:164: ParameterWarning: Method expects CSR input, and was passed coo_matrix instead. Converting to CSR took 0.03937268257141113 seconds\n",
            "  warnings.warn(\n",
            "100%|██████████| 3953/3953 [00:00<00:00, 23807.97it/s]\n",
            "i:\\Проекты\\jirafe\\.conda\\lib\\site-packages\\implicit\\utils.py:164: ParameterWarning: Method expects CSR input, and was passed coo_matrix instead. Converting to CSR took 0.03800845146179199 seconds\n",
            "  warnings.warn(\n",
            "100%|██████████| 3953/3953 [00:00<00:00, 25013.36it/s]\n",
            "i:\\Проекты\\jirafe\\.conda\\lib\\site-packages\\implicit\\utils.py:164: ParameterWarning: Method expects CSR input, and was passed coo_matrix instead. Converting to CSR took 0.038007259368896484 seconds\n",
            "  warnings.warn(\n",
            "100%|██████████| 3953/3953 [00:00<00:00, 18642.06it/s]\n",
            "i:\\Проекты\\jirafe\\.conda\\lib\\site-packages\\implicit\\utils.py:164: ParameterWarning: Method expects CSR input, and was passed coo_matrix instead. Converting to CSR took 0.03800845146179199 seconds\n",
            "  warnings.warn(\n",
            "100%|██████████| 3953/3953 [00:00<00:00, 21021.96it/s]\n",
            "i:\\Проекты\\jirafe\\.conda\\lib\\site-packages\\implicit\\utils.py:164: ParameterWarning: Method expects CSR input, and was passed coo_matrix instead. Converting to CSR took 0.03800821304321289 seconds\n",
            "  warnings.warn(\n",
            "100%|██████████| 3953/3953 [00:00<00:00, 21956.07it/s]\n"
          ]
        }
      ],
      "source": [
        "k_values =  [5, 10, 15, 20, 30, 50]  # Пример значений K для оценки\n",
        "metrics_results = {}\n",
        "for k in k_values:\n",
        "    model = CosineRecommender(K=k)\n",
        "    model.fit(rating_matrix)\n",
        "    users_list = train['user_id'].unique()\n",
        "    ids, scores = model.recommend(users_list, csr_matrix(rating_matrix[users_list]), k)\n",
        "    recommendations = []\n",
        "    for i, user_id in enumerate(users_list):\n",
        "        for j in range(len(ids[i])):\n",
        "            recommendations.append([user_id, ids[i][j], scores[i][j]])\n",
        "    recommendations_df = pd.DataFrame(recommendations, columns=['user_id', 'item_id', 'relevance'])\n",
        "    metrics_results[k] = evaluate_metrics(recommendations_df, val, k)\n"
      ]
    },
    {
      "cell_type": "code",
      "execution_count": 56,
      "metadata": {},
      "outputs": [
        {
          "data": {
            "image/png": "[encoded data removed]",
            "text/plain": [
              "<Figure size 1200x800 with 4 Axes>"
            ]
          },
          "metadata": {},
          "output_type": "display_data"
        }
      ],
      "source": [
        "# Данные для каждой метрики\n",
        "NDCG = [metrics_results[k]['NDCG'] for k in k_values]\n",
        "Surprisal_m = [metrics_results[k]['Surprisal'] for k in k_values]\n",
        "Hit_Rate = [metrics_results[k]['Hit Rate'] for k in k_values]\n",
        "Coverage = [metrics_results[k]['Coverage'] for k in k_values]\n",
        "\n",
        "# Создание subplot\n",
        "plt.figure(figsize=(12, 8))\n",
        "\n",
        "# График для NDCG\n",
        "plt.subplot(221)\n",
        "plt.plot(k_values, NDCG, marker='o')\n",
        "plt.title('NDCG')\n",
        "plt.xlabel('k')\n",
        "plt.ylabel('Значение')\n",
        "\n",
        "# График для Surprisal\n",
        "plt.subplot(222)\n",
        "plt.plot(k_values, Surprisal_m, marker='o')\n",
        "plt.title('Surprisal')\n",
        "plt.xlabel('k')\n",
        "plt.ylabel('Значение')\n",
        "\n",
        "# График для Hit Rate\n",
        "plt.subplot(223)\n",
        "plt.plot(k_values, Hit_Rate, marker='o')\n",
        "plt.title('Hit Rate')\n",
        "plt.xlabel('k')\n",
        "plt.ylabel('Значение')\n",
        "\n",
        "# График для Coverage\n",
        "plt.subplot(224)\n",
        "plt.plot(k_values, Coverage, marker='o')\n",
        "plt.title('Coverage')\n",
        "plt.xlabel('k')\n",
        "plt.ylabel('Значение')\n",
        "\n",
        "plt.tight_layout()\n",
        "plt.show()"
      ]
    },
    {
      "cell_type": "markdown",
      "metadata": {},
      "source": [
        "#### F-IDF (Term Frequency-Inverse Document Frequency)"
      ]
    },
    {
      "cell_type": "markdown",
      "metadata": {},
      "source": [
        "<strong>TF-IDF (Term Frequency-Inverse Document Frequency):</strong>\n",
        "\n",
        "- При использовании TF-IDF в рекомендательной системе для музыки, каждый трек представляется как документ, а каждое слово или термин - как музыкальный тег или атрибут трека.\n",
        "\n",
        "- TF-IDF будет учитывать, насколько часто определенные музыкальные теги встречаются в профиле пользователя по сравнению с их общим распределением по всей коллекции треков.\n",
        "\n",
        "- Например, если пользователь часто слушает треки с тегами \"рок\" и \"классика\", но редко слушает треки с тегом \"электроника\", TF-IDF поможет выделить важность каждого из этих тегов при формировании персонализированных рекомендаций.\n"
      ]
    },
    {
      "cell_type": "code",
      "execution_count": 57,
      "metadata": {},
      "outputs": [
        {
          "data": {
            "text/html": [
              "<div>\n",
              "<style scoped>\n",
              "    .dataframe tbody tr th:only-of-type {\n",
              "        vertical-align: middle;\n",
              "    }\n",
              "\n",
              "    .dataframe tbody tr th {\n",
              "        vertical-align: top;\n",
              "    }\n",
              "\n",
              "    .dataframe thead th {\n",
              "        text-align: right;\n",
              "    }\n",
              "</style>\n",
              "<table border=\"1\" class=\"dataframe\">\n",
              "  <thead>\n",
              "    <tr style=\"text-align: right;\">\n",
              "      <th></th>\n",
              "      <th>user_id</th>\n",
              "      <th>item_id</th>\n",
              "      <th>relevance</th>\n",
              "    </tr>\n",
              "  </thead>\n",
              "  <tbody>\n",
              "    <tr>\n",
              "      <th>0</th>\n",
              "      <td>670</td>\n",
              "      <td>3935 1252 720 3948 3949 2069 2075 2077 1280 20...</td>\n",
              "      <td>3.0 4.0 4.0 1.0 4.0 3.0 3.0 2.0 3.0 2.0 5.0 2....</td>\n",
              "    </tr>\n",
              "    <tr>\n",
              "      <th>1</th>\n",
              "      <td>671</td>\n",
              "      <td>3006 592 593 1272 750 903 904 1292 912 913 922...</td>\n",
              "      <td>4.0 3.0 4.0 4.0 5.0 5.0 5.0 5.0 5.0 4.0 5.0 5....</td>\n",
              "    </tr>\n",
              "    <tr>\n",
              "      <th>2</th>\n",
              "      <td>672</td>\n",
              "      <td>2987 3930 1250 1252 1259 589 590 1282 913 920 ...</td>\n",
              "      <td>4.0 4.0 5.0 4.0 4.0 3.0 5.0 3.0 5.0 4.0 3.0 5....</td>\n",
              "    </tr>\n",
              "    <tr>\n",
              "      <th>3</th>\n",
              "      <td>673</td>\n",
              "      <td>1249 1250 1251 3793 3794 724 1259 589 4 1401 3...</td>\n",
              "      <td>5.0 5.0 5.0 3.0 2.0 2.0 3.0 3.0 1.0 1.0 1.0 1....</td>\n",
              "    </tr>\n",
              "    <tr>\n",
              "      <th>4</th>\n",
              "      <td>674</td>\n",
              "      <td>1250 1259 589 6 1408 1266 590 593 1270 2073 12...</td>\n",
              "      <td>4.0 4.0 4.0 2.0 2.0 5.0 4.0 4.0 4.0 5.0 4.0 3....</td>\n",
              "    </tr>\n",
              "    <tr>\n",
              "      <th>...</th>\n",
              "      <td>...</td>\n",
              "      <td>...</td>\n",
              "      <td>...</td>\n",
              "    </tr>\n",
              "    <tr>\n",
              "      <th>5360</th>\n",
              "      <td>6036</td>\n",
              "      <td>571 574 2053 2054 2058 588 589 4 3005 6 3006 3...</td>\n",
              "      <td>3.0 3.0 2.0 3.0 2.0 2.0 5.0 2.0 2.0 3.0 4.0 5....</td>\n",
              "    </tr>\n",
              "    <tr>\n",
              "      <th>5361</th>\n",
              "      <td>6037</td>\n",
              "      <td>589 3006 1407 2064 2065 593 3015 903 904 905 9...</td>\n",
              "      <td>3.0 4.0 3.0 4.0 3.0 5.0 3.0 5.0 5.0 3.0 4.0 4....</td>\n",
              "    </tr>\n",
              "    <tr>\n",
              "      <th>5362</th>\n",
              "      <td>6038</td>\n",
              "      <td>1419 920 3088 232 1136 1148 1183 2146 3548 356...</td>\n",
              "      <td>4.0 3.0 5.0 4.0 4.0 5.0 5.0 4.0 4.0 4.0 4.0 5....</td>\n",
              "    </tr>\n",
              "    <tr>\n",
              "      <th>5363</th>\n",
              "      <td>6039</td>\n",
              "      <td>588 2067 1416 3022 3028 2080 2083 2087 3035 30...</td>\n",
              "      <td>4.0 4.0 4.0 4.0 3.0 4.0 3.0 3.0 4.0 5.0 3.0 4....</td>\n",
              "    </tr>\n",
              "    <tr>\n",
              "      <th>5364</th>\n",
              "      <td>6040</td>\n",
              "      <td>573 589 1 592 593 3016 3017 2070 1419 2076 303...</td>\n",
              "      <td>4.0 4.0 3.0 2.0 5.0 2.0 1.0 4.0 3.0 5.0 2.0 4....</td>\n",
              "    </tr>\n",
              "  </tbody>\n",
              "</table>\n",
              "<p>5365 rows × 3 columns</p>\n",
              "</div>"
            ],
            "text/plain": [
              "      user_id                                            item_id  \\\n",
              "0         670  3935 1252 720 3948 3949 2069 2075 2077 1280 20...   \n",
              "1         671  3006 592 593 1272 750 903 904 1292 912 913 922...   \n",
              "2         672  2987 3930 1250 1252 1259 589 590 1282 913 920 ...   \n",
              "3         673  1249 1250 1251 3793 3794 724 1259 589 4 1401 3...   \n",
              "4         674  1250 1259 589 6 1408 1266 590 593 1270 2073 12...   \n",
              "...       ...                                                ...   \n",
              "5360     6036  571 574 2053 2054 2058 588 589 4 3005 6 3006 3...   \n",
              "5361     6037  589 3006 1407 2064 2065 593 3015 903 904 905 9...   \n",
              "5362     6038  1419 920 3088 232 1136 1148 1183 2146 3548 356...   \n",
              "5363     6039  588 2067 1416 3022 3028 2080 2083 2087 3035 30...   \n",
              "5364     6040  573 589 1 592 593 3016 3017 2070 1419 2076 303...   \n",
              "\n",
              "                                              relevance  \n",
              "0     3.0 4.0 4.0 1.0 4.0 3.0 3.0 2.0 3.0 2.0 5.0 2....  \n",
              "1     4.0 3.0 4.0 4.0 5.0 5.0 5.0 5.0 5.0 4.0 5.0 5....  \n",
              "2     4.0 4.0 5.0 4.0 4.0 3.0 5.0 3.0 5.0 4.0 3.0 5....  \n",
              "3     5.0 5.0 5.0 3.0 2.0 2.0 3.0 3.0 1.0 1.0 1.0 1....  \n",
              "4     4.0 4.0 4.0 2.0 2.0 5.0 4.0 4.0 4.0 5.0 4.0 3....  \n",
              "...                                                 ...  \n",
              "5360  3.0 3.0 2.0 3.0 2.0 2.0 5.0 2.0 2.0 3.0 4.0 5....  \n",
              "5361  3.0 4.0 3.0 4.0 3.0 5.0 3.0 5.0 5.0 3.0 4.0 4....  \n",
              "5362  4.0 3.0 5.0 4.0 4.0 5.0 5.0 4.0 4.0 4.0 4.0 5....  \n",
              "5363  4.0 4.0 4.0 4.0 3.0 4.0 3.0 3.0 4.0 5.0 3.0 4....  \n",
              "5364  4.0 4.0 3.0 2.0 5.0 2.0 1.0 4.0 3.0 5.0 2.0 4....  \n",
              "\n",
              "[5365 rows x 3 columns]"
            ]
          },
          "execution_count": 57,
          "metadata": {},
          "output_type": "execute_result"
        }
      ],
      "source": [
        "df_grouped = train.groupby('user_id').agg({'item_id': lambda x: ' '.join(map(str, x)),\n",
        "                                        'relevance': lambda x: ' '.join(map(str, x))}).reset_index()\n",
        "\n",
        "df_grouped"
      ]
    },
    {
      "cell_type": "code",
      "execution_count": 58,
      "metadata": {},
      "outputs": [
        {
          "name": "stderr",
          "output_type": "stream",
          "text": [
            "i:\\Проекты\\jirafe\\.conda\\lib\\site-packages\\implicit\\utils.py:164: ParameterWarning: Method expects CSR input, and was passed coo_matrix instead. Converting to CSR took 0.0400087833404541 seconds\n",
            "  warnings.warn(\n",
            "100%|██████████| 3653/3653 [00:00<00:00, 16377.49it/s]\n"
          ]
        }
      ],
      "source": [
        "from sklearn.feature_extraction.text import TfidfVectorizer\n",
        "\n",
        "\n",
        "tfidf_vectorizer = TfidfVectorizer()\n",
        "tfidf_matrix = tfidf_vectorizer.fit_transform(df_grouped['item_id'])\n",
        "sparse_tfidf_matrix = csr_matrix(tfidf_matrix)\n",
        "model = CosineRecommender(K=20)\n",
        "model.fit(sparse_tfidf_matrix)"
      ]
    },
    {
      "cell_type": "code",
      "execution_count": 59,
      "metadata": {},
      "outputs": [
        {
          "data": {
            "text/plain": [
              "(array([ 243, 3551,  265,  221, 3413, 3508, 3571, 3058,  921,  244]),\n",
              " array([0.30493787, 0.24952405, 0.24649411, 0.24415541, 0.21695968,\n",
              "        0.21521997, 0.21060422, 0.19461299, 0.19236011, 0.19213633]))"
            ]
          },
          "execution_count": 59,
          "metadata": {},
          "output_type": "execute_result"
        }
      ],
      "source": [
        "user_id_to_recommend = 670\n",
        "recommendations = model.recommend(user_id_to_recommend, sparse_tfidf_matrix)\n",
        "recommendations"
      ]
    },
    {
      "cell_type": "code",
      "execution_count": 60,
      "metadata": {},
      "outputs": [
        {
          "data": {
            "text/html": [
              "<div>\n",
              "<style scoped>\n",
              "    .dataframe tbody tr th:only-of-type {\n",
              "        vertical-align: middle;\n",
              "    }\n",
              "\n",
              "    .dataframe tbody tr th {\n",
              "        vertical-align: top;\n",
              "    }\n",
              "\n",
              "    .dataframe thead th {\n",
              "        text-align: right;\n",
              "    }\n",
              "</style>\n",
              "<table border=\"1\" class=\"dataframe\">\n",
              "  <thead>\n",
              "    <tr style=\"text-align: right;\">\n",
              "      <th></th>\n",
              "      <th>user_id</th>\n",
              "      <th>item_id</th>\n",
              "      <th>relevance</th>\n",
              "    </tr>\n",
              "  </thead>\n",
              "  <tbody>\n",
              "    <tr>\n",
              "      <th>0</th>\n",
              "      <td>670</td>\n",
              "      <td>243</td>\n",
              "      <td>0.304938</td>\n",
              "    </tr>\n",
              "    <tr>\n",
              "      <th>1</th>\n",
              "      <td>670</td>\n",
              "      <td>3551</td>\n",
              "      <td>0.249524</td>\n",
              "    </tr>\n",
              "    <tr>\n",
              "      <th>2</th>\n",
              "      <td>670</td>\n",
              "      <td>265</td>\n",
              "      <td>0.246494</td>\n",
              "    </tr>\n",
              "    <tr>\n",
              "      <th>3</th>\n",
              "      <td>670</td>\n",
              "      <td>221</td>\n",
              "      <td>0.244155</td>\n",
              "    </tr>\n",
              "    <tr>\n",
              "      <th>4</th>\n",
              "      <td>670</td>\n",
              "      <td>3413</td>\n",
              "      <td>0.216960</td>\n",
              "    </tr>\n",
              "    <tr>\n",
              "      <th>...</th>\n",
              "      <td>...</td>\n",
              "      <td>...</td>\n",
              "      <td>...</td>\n",
              "    </tr>\n",
              "    <tr>\n",
              "      <th>53645</th>\n",
              "      <td>6040</td>\n",
              "      <td>2520</td>\n",
              "      <td>0.328032</td>\n",
              "    </tr>\n",
              "    <tr>\n",
              "      <th>53646</th>\n",
              "      <td>6040</td>\n",
              "      <td>2277</td>\n",
              "      <td>0.299212</td>\n",
              "    </tr>\n",
              "    <tr>\n",
              "      <th>53647</th>\n",
              "      <td>6040</td>\n",
              "      <td>1834</td>\n",
              "      <td>0.283350</td>\n",
              "    </tr>\n",
              "    <tr>\n",
              "      <th>53648</th>\n",
              "      <td>6040</td>\n",
              "      <td>1238</td>\n",
              "      <td>0.267333</td>\n",
              "    </tr>\n",
              "    <tr>\n",
              "      <th>53649</th>\n",
              "      <td>6040</td>\n",
              "      <td>2607</td>\n",
              "      <td>0.262777</td>\n",
              "    </tr>\n",
              "  </tbody>\n",
              "</table>\n",
              "<p>53650 rows × 3 columns</p>\n",
              "</div>"
            ],
            "text/plain": [
              "       user_id  item_id  relevance\n",
              "0          670      243   0.304938\n",
              "1          670     3551   0.249524\n",
              "2          670      265   0.246494\n",
              "3          670      221   0.244155\n",
              "4          670     3413   0.216960\n",
              "...        ...      ...        ...\n",
              "53645     6040     2520   0.328032\n",
              "53646     6040     2277   0.299212\n",
              "53647     6040     1834   0.283350\n",
              "53648     6040     1238   0.267333\n",
              "53649     6040     2607   0.262777\n",
              "\n",
              "[53650 rows x 3 columns]"
            ]
          },
          "execution_count": 60,
          "metadata": {},
          "output_type": "execute_result"
        }
      ],
      "source": [
        "users_list = train['user_id'].unique()\n",
        "ids, scores = model.recommend(users_list, sparse_tfidf_matrix)\n",
        "recommendations = []\n",
        "for i, user_id in enumerate(users_list):\n",
        "    for j in range(len(ids[i])):\n",
        "        recommendations.append([user_id, ids[i][j], scores[i][j]])\n",
        "recommendations_df = pd.DataFrame(recommendations, columns=['user_id', 'item_id', 'relevance'])\n",
        "recommendations_df"
      ]
    },
    {
      "cell_type": "code",
      "execution_count": 61,
      "metadata": {},
      "outputs": [
        {
          "data": {
            "image/png": "[encoded data removed]",
            "text/plain": [
              "<Figure size 1000x600 with 1 Axes>"
            ]
          },
          "metadata": {},
          "output_type": "display_data"
        },
        {
          "name": "stdout",
          "output_type": "stream",
          "text": [
            "{'NDCG': 0.00481941565482036, 'Surprisal': 0.43463788401500797, 'Hit Rate': 0.05363984674329502, 'Coverage': 0.278809393773894}\n"
          ]
        }
      ],
      "source": [
        "metrics_results = evaluate_metrics(recommendations_df, val, 20)\n",
        "metrics_df = pd.DataFrame.from_dict(metrics_result, orient='index', columns=['Value'])\n",
        "metrics_df.reset_index(inplace=True)\n",
        "metrics_df.rename(columns={'index': 'Metric'}, inplace=True)\n",
        "\n",
        "# Создание графика\n",
        "plt.figure(figsize=(10, 6))\n",
        "plt.bar(metrics_df['Metric'], metrics_df['Value'], color='skyblue')\n",
        "plt.xlabel('Metrics')\n",
        "plt.ylabel('Values')\n",
        "plt.title('Metrics Evaluation with TF-IDF')\n",
        "plt.ylim(0, 1) \n",
        "plt.show()\n",
        "print(metrics_results)"
      ]
    },
    {
      "cell_type": "markdown",
      "metadata": {},
      "source": [
        "<font color=\"green\"><b>\n",
        "Explanation:\n",
        "</b></font>\n",
        "\n",
        "При анализе графика метрик с использованием TF-IDF в CosineRecommender можно заметить, что результаты оказались ниже, чем при использовании стандартного CosineRecommender. Это может указывать на то, что применение TF-IDF в данном контексте не привело к улучшению качества рекомендаций.\n",
        "\n",
        "Несмотря на то, что значения NDCG и Hit Rate оказались ниже, чем при использовании стандартного CosineRecommender, метрики Coverage и Surprisal показали повышение. Высокое значение метрики Coverage может указывать на более широкий охват рекомендаций для пользователей, в то время как увеличение Surprisal может свидетельствовать о более неожиданных и разнообразных рекомендациях.\n",
        "\n",
        "Это противоречивое явление может быть связано с тем, что применение TF-IDF в данном контексте приводит к более широкому охвату и разнообразию рекомендаций за счет учета весов \"слов\", однако это может повлиять на точность и релевантность рекомендаций. \n"
      ]
    },
    {
      "cell_type": "markdown",
      "metadata": {},
      "source": [
        "#### train['relevance'] > 3"
      ]
    },
    {
      "cell_type": "markdown",
      "metadata": {},
      "source": [
        "#### Так как данных с [train['relevance'] > 3] очень много, и по факты мы убрали довольно мало объектов, для наглядности мы будем обучать на [train['relevance'] > 4]"
      ]
    },
    {
      "cell_type": "code",
      "execution_count": 71,
      "metadata": {},
      "outputs": [],
      "source": [
        "train_2 = train[train['relevance'] > 4]\n",
        "user_num = train_2[\"user_id\"].max() + 1\n",
        "item_num = train_2[\"item_id\"].max() + 1\n",
        "\n",
        "train_mat = defaultdict(float)\n",
        "for _, user, item, rel in train_2[[\"user_id\", \"item_id\", \"relevance\"]].itertuples():\n",
        "    train_mat[user, item] = rel\n",
        "rating_matrix_2 = dok_matrix((user_num, item_num), dtype=np.float32)\n",
        "dict.update(rating_matrix_2, train_mat)"
      ]
    },
    {
      "cell_type": "code",
      "execution_count": 72,
      "metadata": {},
      "outputs": [
        {
          "data": {
            "text/html": [
              "<div>\n",
              "<style scoped>\n",
              "    .dataframe tbody tr th:only-of-type {\n",
              "        vertical-align: middle;\n",
              "    }\n",
              "\n",
              "    .dataframe tbody tr th {\n",
              "        vertical-align: top;\n",
              "    }\n",
              "\n",
              "    .dataframe thead th {\n",
              "        text-align: right;\n",
              "    }\n",
              "</style>\n",
              "<table border=\"1\" class=\"dataframe\">\n",
              "  <thead>\n",
              "    <tr style=\"text-align: right;\">\n",
              "      <th></th>\n",
              "      <th>user_id</th>\n",
              "      <th>item_id</th>\n",
              "      <th>relevance</th>\n",
              "    </tr>\n",
              "  </thead>\n",
              "  <tbody>\n",
              "    <tr>\n",
              "      <th>0</th>\n",
              "      <td>670</td>\n",
              "      <td>3030 912 923 3435 3468 608 1148 3362 2731 1952...</td>\n",
              "      <td>5.0 5.0 5.0 5.0 5.0 5.0 5.0 5.0 5.0 5.0 5.0 5....</td>\n",
              "    </tr>\n",
              "    <tr>\n",
              "      <th>1</th>\n",
              "      <td>671</td>\n",
              "      <td>750 903 904 1292 912 922 924 296 608 3683 1193...</td>\n",
              "      <td>5.0 5.0 5.0 5.0 5.0 5.0 5.0 5.0 5.0 5.0 5.0 5....</td>\n",
              "    </tr>\n",
              "    <tr>\n",
              "      <th>2</th>\n",
              "      <td>672</td>\n",
              "      <td>1250 590 913 969 457 1304 858 110 3334 1954 19...</td>\n",
              "      <td>5.0 5.0 5.0 5.0 5.0 5.0 5.0 5.0 5.0 5.0 5.0 5....</td>\n",
              "    </tr>\n",
              "    <tr>\n",
              "      <th>3</th>\n",
              "      <td>673</td>\n",
              "      <td>1249 1250 1251 1406 3949 3010 1411 1277 1280 7...</td>\n",
              "      <td>5.0 5.0 5.0 5.0 5.0 5.0 5.0 5.0 5.0 5.0 5.0 5....</td>\n",
              "    </tr>\n",
              "    <tr>\n",
              "      <th>4</th>\n",
              "      <td>674</td>\n",
              "      <td>1266 2073 750 908 924 1610 3256 1653 3421 260 ...</td>\n",
              "      <td>5.0 5.0 5.0 5.0 5.0 5.0 5.0 5.0 5.0 5.0 5.0 5....</td>\n",
              "    </tr>\n",
              "    <tr>\n",
              "      <th>...</th>\n",
              "      <td>...</td>\n",
              "      <td>...</td>\n",
              "      <td>...</td>\n",
              "    </tr>\n",
              "    <tr>\n",
              "      <th>5316</th>\n",
              "      <td>6036</td>\n",
              "      <td>589 3008 2064 593 594 3022 3028 3030 3034 903 ...</td>\n",
              "      <td>5.0 5.0 5.0 5.0 5.0 5.0 5.0 5.0 5.0 5.0 5.0 5....</td>\n",
              "    </tr>\n",
              "    <tr>\n",
              "      <th>5317</th>\n",
              "      <td>6037</td>\n",
              "      <td>593 903 904 910 924 926 928 3095 3471 260 296 ...</td>\n",
              "      <td>5.0 5.0 5.0 5.0 5.0 5.0 5.0 5.0 5.0 5.0 5.0 5....</td>\n",
              "    </tr>\n",
              "    <tr>\n",
              "      <th>5318</th>\n",
              "      <td>6038</td>\n",
              "      <td>3088 1148 1183 1223 1296 1079</td>\n",
              "      <td>5.0 5.0 5.0 5.0 5.0 5.0</td>\n",
              "    </tr>\n",
              "    <tr>\n",
              "      <th>5319</th>\n",
              "      <td>6039</td>\n",
              "      <td>3037 903 904 913 916 918 922 926 3088 260 1125...</td>\n",
              "      <td>5.0 5.0 5.0 5.0 5.0 5.0 5.0 5.0 5.0 5.0 5.0 5....</td>\n",
              "    </tr>\n",
              "    <tr>\n",
              "      <th>5320</th>\n",
              "      <td>6040</td>\n",
              "      <td>593 2076 912 913 916 919 923 924 3089 213 246 ...</td>\n",
              "      <td>5.0 5.0 5.0 5.0 5.0 5.0 5.0 5.0 5.0 5.0 5.0 5....</td>\n",
              "    </tr>\n",
              "  </tbody>\n",
              "</table>\n",
              "<p>5321 rows × 3 columns</p>\n",
              "</div>"
            ],
            "text/plain": [
              "      user_id                                            item_id  \\\n",
              "0         670  3030 912 923 3435 3468 608 1148 3362 2731 1952...   \n",
              "1         671  750 903 904 1292 912 922 924 296 608 3683 1193...   \n",
              "2         672  1250 590 913 969 457 1304 858 110 3334 1954 19...   \n",
              "3         673  1249 1250 1251 1406 3949 3010 1411 1277 1280 7...   \n",
              "4         674  1266 2073 750 908 924 1610 3256 1653 3421 260 ...   \n",
              "...       ...                                                ...   \n",
              "5316     6036  589 3008 2064 593 594 3022 3028 3030 3034 903 ...   \n",
              "5317     6037  593 903 904 910 924 926 928 3095 3471 260 296 ...   \n",
              "5318     6038                      3088 1148 1183 1223 1296 1079   \n",
              "5319     6039  3037 903 904 913 916 918 922 926 3088 260 1125...   \n",
              "5320     6040  593 2076 912 913 916 919 923 924 3089 213 246 ...   \n",
              "\n",
              "                                              relevance  \n",
              "0     5.0 5.0 5.0 5.0 5.0 5.0 5.0 5.0 5.0 5.0 5.0 5....  \n",
              "1     5.0 5.0 5.0 5.0 5.0 5.0 5.0 5.0 5.0 5.0 5.0 5....  \n",
              "2     5.0 5.0 5.0 5.0 5.0 5.0 5.0 5.0 5.0 5.0 5.0 5....  \n",
              "3     5.0 5.0 5.0 5.0 5.0 5.0 5.0 5.0 5.0 5.0 5.0 5....  \n",
              "4     5.0 5.0 5.0 5.0 5.0 5.0 5.0 5.0 5.0 5.0 5.0 5....  \n",
              "...                                                 ...  \n",
              "5316  5.0 5.0 5.0 5.0 5.0 5.0 5.0 5.0 5.0 5.0 5.0 5....  \n",
              "5317  5.0 5.0 5.0 5.0 5.0 5.0 5.0 5.0 5.0 5.0 5.0 5....  \n",
              "5318                            5.0 5.0 5.0 5.0 5.0 5.0  \n",
              "5319  5.0 5.0 5.0 5.0 5.0 5.0 5.0 5.0 5.0 5.0 5.0 5....  \n",
              "5320  5.0 5.0 5.0 5.0 5.0 5.0 5.0 5.0 5.0 5.0 5.0 5....  \n",
              "\n",
              "[5321 rows x 3 columns]"
            ]
          },
          "execution_count": 72,
          "metadata": {},
          "output_type": "execute_result"
        }
      ],
      "source": [
        "df_grouped_2 = train_2.groupby('user_id').agg({'item_id': lambda x: ' '.join(map(str, x)),\n",
        "                                        'relevance': lambda x: ' '.join(map(str, x))}).reset_index()\n",
        "\n",
        "df_grouped_2"
      ]
    },
    {
      "cell_type": "code",
      "execution_count": 73,
      "metadata": {},
      "outputs": [
        {
          "name": "stderr",
          "output_type": "stream",
          "text": [
            "i:\\Проекты\\jirafe\\.conda\\lib\\site-packages\\implicit\\utils.py:164: ParameterWarning: Method expects CSR input, and was passed coo_matrix instead. Converting to CSR took 0.007000923156738281 seconds\n",
            "  warnings.warn(\n",
            "100%|██████████| 3154/3154 [00:00<00:00, 126123.43it/s]\n"
          ]
        }
      ],
      "source": [
        "tfidf_vectorizer = TfidfVectorizer()\n",
        "tfidf_matrix = tfidf_vectorizer.fit_transform(df_grouped_2['item_id'])\n",
        "sparse_tfidf_matrix = csr_matrix(tfidf_matrix)\n",
        "model = CosineRecommender(K=20)\n",
        "model.fit(sparse_tfidf_matrix)"
      ]
    },
    {
      "cell_type": "code",
      "execution_count": 74,
      "metadata": {},
      "outputs": [
        {
          "data": {
            "text/html": [
              "<div>\n",
              "<style scoped>\n",
              "    .dataframe tbody tr th:only-of-type {\n",
              "        vertical-align: middle;\n",
              "    }\n",
              "\n",
              "    .dataframe tbody tr th {\n",
              "        vertical-align: top;\n",
              "    }\n",
              "\n",
              "    .dataframe thead th {\n",
              "        text-align: right;\n",
              "    }\n",
              "</style>\n",
              "<table border=\"1\" class=\"dataframe\">\n",
              "  <thead>\n",
              "    <tr style=\"text-align: right;\">\n",
              "      <th></th>\n",
              "      <th>user_id</th>\n",
              "      <th>item_id</th>\n",
              "      <th>relevance</th>\n",
              "    </tr>\n",
              "  </thead>\n",
              "  <tbody>\n",
              "    <tr>\n",
              "      <th>0</th>\n",
              "      <td>670</td>\n",
              "      <td>226</td>\n",
              "      <td>0.342285</td>\n",
              "    </tr>\n",
              "    <tr>\n",
              "      <th>1</th>\n",
              "      <td>670</td>\n",
              "      <td>195</td>\n",
              "      <td>0.274352</td>\n",
              "    </tr>\n",
              "    <tr>\n",
              "      <th>2</th>\n",
              "      <td>670</td>\n",
              "      <td>803</td>\n",
              "      <td>0.226248</td>\n",
              "    </tr>\n",
              "    <tr>\n",
              "      <th>3</th>\n",
              "      <td>670</td>\n",
              "      <td>1078</td>\n",
              "      <td>0.210613</td>\n",
              "    </tr>\n",
              "    <tr>\n",
              "      <th>4</th>\n",
              "      <td>670</td>\n",
              "      <td>1934</td>\n",
              "      <td>0.189580</td>\n",
              "    </tr>\n",
              "    <tr>\n",
              "      <th>...</th>\n",
              "      <td>...</td>\n",
              "      <td>...</td>\n",
              "      <td>...</td>\n",
              "    </tr>\n",
              "    <tr>\n",
              "      <th>53205</th>\n",
              "      <td>6040</td>\n",
              "      <td>3027</td>\n",
              "      <td>0.135479</td>\n",
              "    </tr>\n",
              "    <tr>\n",
              "      <th>53206</th>\n",
              "      <td>6040</td>\n",
              "      <td>220</td>\n",
              "      <td>0.133080</td>\n",
              "    </tr>\n",
              "    <tr>\n",
              "      <th>53207</th>\n",
              "      <td>6040</td>\n",
              "      <td>1766</td>\n",
              "      <td>0.133023</td>\n",
              "    </tr>\n",
              "    <tr>\n",
              "      <th>53208</th>\n",
              "      <td>6040</td>\n",
              "      <td>186</td>\n",
              "      <td>0.131955</td>\n",
              "    </tr>\n",
              "    <tr>\n",
              "      <th>53209</th>\n",
              "      <td>6040</td>\n",
              "      <td>3136</td>\n",
              "      <td>0.126245</td>\n",
              "    </tr>\n",
              "  </tbody>\n",
              "</table>\n",
              "<p>53210 rows × 3 columns</p>\n",
              "</div>"
            ],
            "text/plain": [
              "       user_id  item_id  relevance\n",
              "0          670      226   0.342285\n",
              "1          670      195   0.274352\n",
              "2          670      803   0.226248\n",
              "3          670     1078   0.210613\n",
              "4          670     1934   0.189580\n",
              "...        ...      ...        ...\n",
              "53205     6040     3027   0.135479\n",
              "53206     6040      220   0.133080\n",
              "53207     6040     1766   0.133023\n",
              "53208     6040      186   0.131955\n",
              "53209     6040     3136   0.126245\n",
              "\n",
              "[53210 rows x 3 columns]"
            ]
          },
          "execution_count": 74,
          "metadata": {},
          "output_type": "execute_result"
        }
      ],
      "source": [
        "users_list = train_2['user_id'].unique()\n",
        "ids, scores = model.recommend(users_list, sparse_tfidf_matrix)\n",
        "recommendations = []\n",
        "for i, user_id in enumerate(users_list):\n",
        "    for j in range(len(ids[i])):\n",
        "        recommendations.append([user_id, ids[i][j], scores[i][j]])\n",
        "recommendations_df = pd.DataFrame(recommendations, columns=['user_id', 'item_id', 'relevance'])\n",
        "recommendations_df"
      ]
    },
    {
      "cell_type": "code",
      "execution_count": 75,
      "metadata": {},
      "outputs": [
        {
          "data": {
            "image/png": "[encoded data removed]",
            "text/plain": [
              "<Figure size 1000x600 with 1 Axes>"
            ]
          },
          "metadata": {},
          "output_type": "display_data"
        },
        {
          "name": "stdout",
          "output_type": "stream",
          "text": [
            "{'NDCG': 0.005366605774973388, 'Surprisal': 0.44188302535889, 'Hit Rate': 0.06321839080459771, 'Coverage': 0.5685417804478428}\n"
          ]
        }
      ],
      "source": [
        "metrics_results = evaluate_metrics(recommendations_df, val, 20)\n",
        "metrics_df = pd.DataFrame.from_dict(metrics_result, orient='index', columns=['Value'])\n",
        "metrics_df.reset_index(inplace=True)\n",
        "metrics_df.rename(columns={'index': 'Metric'}, inplace=True)\n",
        "\n",
        "# Создание графика\n",
        "plt.figure(figsize=(10, 6))\n",
        "plt.bar(metrics_df['Metric'], metrics_df['Value'], color='skyblue')\n",
        "plt.xlabel('Metrics')\n",
        "plt.ylabel('Values')\n",
        "plt.title('Metrics Evaluation with TF-IDF')\n",
        "plt.ylim(0, 1) \n",
        "plt.show()\n",
        "print(metrics_results)"
      ]
    },
    {
      "cell_type": "code",
      "execution_count": 76,
      "metadata": {},
      "outputs": [
        {
          "data": {
            "image/png": "[encoded data removed]",
            "text/plain": [
              "<Figure size 640x480 with 1 Axes>"
            ]
          },
          "metadata": {},
          "output_type": "display_data"
        }
      ],
      "source": [
        "metrics = ['NDCG', 'Surprisal', 'Hit Rate', 'Coverage']\n",
        "default_train = [0.00481941565482036, 0.43463788401500797, 0.05363984674329502, 0.278809393773894]\n",
        "train_gt_4 = [0.005366605774973388, 0.44188302535889, 0.06321839080459771, 0.5685417804478428]\n",
        "\n",
        "x = np.arange(len(metrics))  # Позиции для меток на оси X\n",
        "\n",
        "fig, ax = plt.subplots()\n",
        "bar_width = 0.35\n",
        "\n",
        "# Создание гистограмм\n",
        "rects1 = ax.bar(x - bar_width/2, default_train, bar_width, label='default train')\n",
        "rects2 = ax.bar(x + bar_width/2, train_gt_4, bar_width, label='train_>4')\n",
        "\n",
        "# Добавление меток, заголовков и т.д.\n",
        "ax.set_xlabel('Метрика')\n",
        "ax.set_ylabel('Значение')\n",
        "ax.set_title('Сравнение метрик')\n",
        "ax.set_xticks(x)\n",
        "ax.set_xticklabels(metrics)\n",
        "ax.legend()\n",
        "\n",
        "# Отображение графика\n",
        "plt.show()"
      ]
    },
    {
      "cell_type": "markdown",
      "metadata": {},
      "source": [
        "Как мы видим, есть незначительные улучшения значений, хотя прирост Coverage был почти в два раза, что является хорошим показателем, с учетом того что в точности по другим метрикам мы не убавили"
      ]
    },
    {
      "cell_type": "markdown",
      "metadata": {
        "id": "dCJCFLDmqEna"
      },
      "source": [
        "## Задание 6. ALS (1.0 балл)\n",
        "\n",
        "1) **(0.5 балла)** Примените ALS из библиотеки [implicit](https://github.com/benfred/implicit), используя для обучения все оценки. Оцените зависимость качества рекомендаций (по 4 реализованным метрикам) от количества факторов (параметр factors). Постройте график зависимости NDCG@20 от числа соседей.\n",
        "\n",
        "2) **(0.5 балла)** Повторите эксперимент из пункта 1, используя для обучения только положительные оценки (> 3). Не забудьте при фильтрации просмотренных учесть все взаимодействия (не только положительные). Как это повлияло на качество?\n",
        "\n",
        "Обратитие внимание на наличие регуляризации в параметрах модели. Для достижения хорошего качества модели необходимо подбирать количество факторов и степень регуляризации одновременно на отложенной выборке, например, с использованием [optuna](https://optuna.org/)."
      ]
    },
    {
      "cell_type": "code",
      "execution_count": null,
      "metadata": {},
      "outputs": [],
      "source": [
        "val['relevance'] = val['relevance'].astype(float)\n",
        "val = val.drop('timestamp', axis=1)"
      ]
    },
    {
      "cell_type": "code",
      "execution_count": 100,
      "metadata": {},
      "outputs": [],
      "source": [
        "from collections import defaultdict\n",
        "from scipy.sparse import csr_matrix, dok_matrix\n",
        "user_num = train[\"user_id\"].max() + 1\n",
        "item_num = train[\"item_id\"].max() + 1\n",
        "\n",
        "train_mat = defaultdict(float)\n",
        "for _, user, item, rel in train[[\"user_id\", \"item_id\", \"relevance\"]].itertuples():\n",
        "    train_mat[user, item] = rel\n",
        "rating_matrix = dok_matrix((user_num, item_num), dtype=np.float32)\n",
        "dict.update(rating_matrix, train_mat)\n",
        "\n",
        "\n",
        "\n",
        "\n",
        "user_num = val[\"user_id\"].max() + 1\n",
        "item_num = val[\"item_id\"].max() + 1\n",
        "\n",
        "train_mat = defaultdict(float)\n",
        "for _, user, item, rel in val[[\"user_id\", \"item_id\", \"relevance\"]].itertuples():\n",
        "    train_mat[user, item] = rel\n",
        "rating_matrix_val = dok_matrix((user_num, item_num), dtype=np.float32)\n",
        "dict.update(rating_matrix, train_mat)"
      ]
    },
    {
      "cell_type": "code",
      "execution_count": 102,
      "metadata": {},
      "outputs": [
        {
          "name": "stdout",
          "output_type": "stream",
          "text": [
            "\n"
          ]
        }
      ],
      "source": [
        "print(rating_matrix_val)"
      ]
    },
    {
      "cell_type": "code",
      "execution_count": null,
      "metadata": {},
      "outputs": [],
      "source": [
        "import implicit\n",
        "\n",
        "def train_als_model(train, factors):\n",
        "    model = implicit.als.AlternatingLeastSquares(factors=factors) \n",
        "    model.fit(train)\n",
        "    return model\n",
        "\n",
        "def dataframe_to_csr(data):\n",
        "    data_coo = csr_matrix((data['relevance'], (data['user_id'], data['item_id'])))\n",
        "    data_csr = data_coo.tocsr()\n",
        "    return data_csr\n",
        "\n",
        "\n",
        "def evaluate_factors(train, val, max_factors):\n",
        "    ndcg_scores = []\n",
        "    factors_range = range(1, max_factors + 1)\n",
        "    val_list = []\n",
        "    for i in range(val.shape[0]):\n",
        "        for j in range(val.shape[1]):\n",
        "            relevance = val[i, j]\n",
        "            if relevance != 0:\n",
        "                val_list.append({'user_id': i, 'item_id': j, 'relevance': relevance})\n",
        "    val_df = pd.DataFrame(val_list)\n",
        "    print(val_df)\n",
        "    for factors in factors_range:\n",
        "        model = train_als_model(train, factors)\n",
        "        recommendations = model.recommend_all(val, N=20)\n",
        "        df_group = pd.merge(val_df, recommendations, on='user_id')\n",
        "        print(df_group)\n",
        "        metrics = evaluate_metrics(recommendations, val, 20)\n",
        "        ndcg_scores.append(metrics['NDCG'])\n",
        "    \n",
        "    return factors_range, ndcg_scores\n",
        "\n",
        "def plot_ndcg_vs_factors(factors_range, ndcg_scores):\n",
        "    plt.plot(factors_range, ndcg_scores, marker='o')\n",
        "    plt.xlabel('Число факторов')\n",
        "    plt.ylabel('NDCG@20')\n",
        "    plt.title('Зависимость NDCG@20 от числа факторов')\n",
        "    plt.show()\n",
        "\n",
        "\n",
        "train_csr = rating_matrix\n",
        "val_csr = dataframe_to_csr(val)\n",
        "max_factors = 100 \n",
        "factors_range, ndcg_scores = evaluate_factors(train_csr, val_csr, max_factors)\n",
        "plot_ndcg_vs_factors(factors_range, ndcg_scores)\n"
      ]
    },
    {
      "cell_type": "markdown",
      "metadata": {
        "id": "iHmoSrzV2QC0"
      },
      "source": [
        "# Подготовьте выводы по всему ноутбуку\n",
        "Какие модели работали лучше? Какие для этого могут быть причины? Какие из моделей наиболее чувствительны к настройке гиперпараметров? Расскажите об интересных наблюдениях и трудностях."
      ]
    },
    {
      "cell_type": "markdown",
      "metadata": {},
      "source": [
        "Мы реализовали NDCG- Нормализованный дисконтированный кумулятивный выигрыш, Surprisal - \"Удивление\", Hit Rate - Частота попадания, Coverage - Покрытие. Каждая из этих метрик играет важную роль при оценке качества рекомендательных систем, и их сочетание может помочь понять, насколько хорошо работает система рекомендаций. \n",
        "\n",
        "Мы приминили эти метрики к нашим моделям: random pred, CosineRecommender c разным количеством соседей, также модифицированная CosineRecommender с приминением tfidf, которая позволила добится лучших результатов чем дефолтная Cosine. Так же мы изменяли изначальные данные путем обучения и оценки на данных без холодных пользователей с хорошими оценками, что также помогло значительно улучшить результаты по таким метрикам как Surprisal и Coverage\n",
        "\n",
        "К сожалению с ALS я не успел доконца разобраться, было бы здорово сделать дедлайны не жесткими, мне было бы не страшно потерять балл, полтара и разобраться со всем доконца.\n",
        "С уважением, Гринев Артем"
      ]
    },
    {
      "cell_type": "markdown",
      "metadata": {},
      "source": []
    }
  ],
  "metadata": {
    "colab": {
      "provenance": []
    },
    "kernelspec": {
      "display_name": "Python 3",
      "language": "python",
      "name": "python3"
    },
    "language_info": {
      "codemirror_mode": {
        "name": "ipython",
        "version": 3
      },
      "file_extension": ".py",
      "mimetype": "text/x-python",
      "name": "python",
      "nbconvert_exporter": "python",
      "pygments_lexer": "ipython3",
      "version": "3.8.18"
    }
  },
  "nbformat": 4,
  "nbformat_minor": 0
}
